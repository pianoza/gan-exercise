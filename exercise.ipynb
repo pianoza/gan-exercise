{
 "cells": [
  {
   "cell_type": "markdown",
   "metadata": {},
   "source": [
    "# Generative Adversarial Networks for X-RAY Classification"
   ]
  },
  {
   "cell_type": "markdown",
   "metadata": {
    "id": "Nzcaiers5ewy"
   },
   "source": [
    "The [MedMNIST v2 dataset](https://medmnist.com/) is the MNIST of Medical Imaging containing a large-scale MNIST-like collection of standardized biomedical images.\n",
    "\n",
    "Can we use this dataset to generate additional synthetic images? Can we condition the data generation on a label? \n",
    "\n",
    "Let's try this in this exercise!"
   ]
  },
  {
   "cell_type": "markdown",
   "metadata": {},
   "source": [
    "## Exercise:\n",
    "\n",
    "\n",
    "#### 1. Definition of Research Question\n",
    "We propose to explore one of the MedMNIST datasets and and define a suitable research question. This research question should contain GANs in its hypothesis and aiming towards solving a useful clinical task. Note: Normally, one would also look up the literature to see if the research question is already answered. For now, we skip this step\n",
    "\n",
    "#### 2. Definition of a Baseline for the Research Question\n",
    "To test our hypothesis, we need to gather experimental data to compare our solution against the state-of-the-art. The state-of-the-art is our baseline method.\n",
    "\n",
    "#### 3. Implementation of the Baseline\n",
    "We implement the baseline and try to do so making our code reusable for our method  (e.g. dataloaders, downstream classifer).  \n",
    "\n",
    "#### 4. Testing the Baseline and Storage of Results\n",
    "Now, we test out our baseline implementation and gather the corresponding empirical results and observe its results on our target performance metrics. Can these results be improved upon? Or, can similar results be aachieved with our more e.g. privacy-preserving, interpretable, generalizable, simpler, or more environment friendly solution?\n",
    "\n",
    "#### 5. Implementation of our GAN Method\n",
    "The method we hypothesise for the clinical task at hand would need to be implemented to allow testing its usefulness. \n",
    "\n",
    "#### 6. Test of our GAN Method and Storage of Results\n",
    "Now is the time to observe whether our method/intervention yields useful results, as we can readily compare it to our  baseline. \n",
    "\n",
    "#### 7. Comparison of our Method and Baseline, Interpretration of Results\n",
    "Now that we have generated some experimental data, we can interpret our results and clearly demonstrate whether our method was useful for the clinical task. We can now reject or accept our hypothesis.\n",
    "\n",
    "#### 8. Reflective Account\n",
    "What could be the reasons why our study did or did not succeed? What do you think are the limitations of our study? What can we learn and takeaway from this exercise? How should it inform our future work? What are the next things to try?"
   ]
  },
  {
   "cell_type": "markdown",
   "metadata": {},
   "source": [
    "# 1. Definition of a Research question"
   ]
  },
  {
   "cell_type": "markdown",
   "metadata": {},
   "source": [
    "\n",
    "### Review of MedMNIST Datasets\n",
    "\n",
    "The MedMNIST dataset including 12 datasets for 2D and 6 datasets for 3D, in total containing 708,069 2D images and 10,214 3D images. The dataset is pre-processed into 28 x 28 (2D) or 28 x 28 x 28 (3D) images alongside the corresponding classification labels for diverse classification tasks (binary/multi-class, ordinal regression and multi-label). More information can be found in the [MedMNIST homepage](https://medmnist.com/).\n",
    "\n",
    "\n",
    "### Choice of PneumoniaMNIST Dataset for our Study\n",
    "\n",
    "We propose to use the PneumoniaMNIST dataset from MedMNIST, which contains to 5,856 chest x-rays (train: 4,708, validation: 524, test: 624). The reason for choosing this dataset is that its respective image classification task is binary (pneumonia/normal). Binary classification is likely to be simpler than multi-class classification for data augmentation purposes i.e. only two rather than multiple class-conditioned images need to be generated.\n",
    "More information on the source of the Pneumonia dataset can be found [here](https://www.sciencedirect.com/science/article/pii/S0092867418301545).\n",
    "\n",
    "\n",
    "### Definition of our Research Question\n",
    "\n",
    "We follow the clinical task defined by the dataset providers, which is the classification of resampled chest xrays to diagnose lung pneumonia.\n",
    "\n",
    "In this regard, our objective would be to maximize the performance of the classifier on the test dataset that should, in theory, resemble the real world distribution if we'd deploy our classifer into a clinical setting. \n",
    "\n",
    "Now, we could train a GAN to augment the classfier's training data, which might improve classification performance.\n",
    "\n",
    "However, the [reported performance](https://medmnist.com/) is already quite strong: \n",
    "\n",
    "**ResNet-18: AUC: 0.944, ACC: 0.854**\n",
    "\n",
    "There seems to be not that much to gain with GAN-based data augmentation (*Note: You may still try if you like*). \n",
    "\n",
    "On the other hand, privacy preservation is a topic of immense importance in medical imaging. The pneumonia chest scans are from a pediatric patient cohort that paticularly requires special data protection. We could train a GAN to generate a synthetic dataset that would likely need less privacy protection than the real data. \n",
    "\n",
    "*Note: Feel free to checkout the related topic of [differential privacy](https://ai.googleblog.com/2022/02/applying-differential-privacy-to-large.html) that provides a guarantee of privacy, among others, in neural networks.*\n",
    "\n",
    "In this sense, we can now define our hypothesis:\n",
    "\n",
    "**H1: Could we, instead of using real patient data, use only synthetic data to train our classifier and achieve comparable performance?**"
   ]
  },
  {
   "cell_type": "markdown",
   "metadata": {},
   "source": [
    "# 2. Definition of a Baseline for the Research Question"
   ]
  },
  {
   "cell_type": "markdown",
   "metadata": {},
   "source": [
    "\n",
    "##### We can now define our baseline metrics: \n",
    "For example, a ResNet-18 trained on the real training dataset achieved AUC: 0.944 and ACC: 0.854 \n",
    "\n",
    "##### We define our method: \n",
    "A simple CNN trained on a GAN-generated synthetic training dataset.\n",
    "\n",
    "You are free to change the CNN model and use another architecture (e.g.,[see baseline](https://medmnist.com/))\n",
    "\n",
    "##### How do we create the GAN-generated dataset?\n",
    "Feel free to explore any idea you have. You may try out different (un)conditional GAN architectures and loss functions. Further below you will find some optional guidance."
   ]
  },
  {
   "cell_type": "markdown",
   "metadata": {},
   "source": [
    "# 3. Implementation of the Baseline"
   ]
  },
  {
   "cell_type": "markdown",
   "metadata": {},
   "source": [
    "### Getting the Data\n",
    "As always, you need access to the dataset. In this case you can download the pneumoniamnist.npz from [Zenodo](https://zenodo.org/record/5208230#.YmcLxtNBz0o). However, note that you can also access medMNIST data via the python packaging index ([pip](https://pypi.org/project/medmnist/)) or [Github](https://github.com/MedMNIST/MedMNIST) directly as pytorch dataset class.\n",
    "\n",
    "For example:"
   ]
  },
  {
   "cell_type": "code",
   "execution_count": null,
   "metadata": {},
   "outputs": [],
   "source": [
    "!pip3 install medmnist"
   ]
  },
  {
   "cell_type": "code",
   "execution_count": null,
   "metadata": {},
   "outputs": [],
   "source": [
    "import medmnist\n",
    "from medmnist import INFO, Evaluator\n",
    "info = INFO['pneumoniamnist']\n",
    "DataClass = getattr(medmnist, info['python_class'])\n",
    "\n",
    "task = info['task']\n",
    "n_channels = info['n_channels']\n",
    "n_classes = len(info['label'])"
   ]
  },
  {
   "cell_type": "markdown",
   "metadata": {},
   "source": [
    "Let's further explore the dataset. We can start by printing dataset info and checking the label distribution."
   ]
  },
  {
   "cell_type": "code",
   "execution_count": null,
   "metadata": {},
   "outputs": [],
   "source": [
    "# Download the dataset\n",
    "train_dataset = DataClass(split='train', download=True)\n",
    "\n",
    "# Print dataset information\n",
    "print(train_dataset)"
   ]
  },
  {
   "cell_type": "code",
   "execution_count": null,
   "metadata": {},
   "outputs": [],
   "source": [
    "from collections import Counter\n",
    "\n",
    "# Check the training label distribution\n",
    "train_classes = [float(label) for _, label in train_dataset]\n",
    "print (dict(Counter(train_classes)))"
   ]
  },
  {
   "cell_type": "code",
   "execution_count": null,
   "metadata": {},
   "outputs": [],
   "source": [
    "# Let's have a look at some of the training images.\n",
    "train_dataset.montage(length=20)"
   ]
  },
  {
   "cell_type": "code",
   "execution_count": null,
   "metadata": {},
   "outputs": [],
   "source": [
    "# Let's visually compare pneumial vs. healthy thoraic xray\n",
    "# 0: normal, 1: pneumonia\n",
    "import matplotlib.pyplot as plt\n",
    "fig, ax = plt.subplots(1,2)\n",
    "ax[0].imshow(train_dataset[0][0], cmap='gray') # pneumonia\n",
    "ax[1].imshow(train_dataset[200][0],cmap='gray') # normal"
   ]
  },
  {
   "cell_type": "markdown",
   "metadata": {},
   "source": [
    "### Baseline Model Implementation\n",
    "To implement the baseline, we start with the [medMNIST github](https://github.com/MedMNIST/MedMNIST), where we can find a [Pytorch getting started notebook](https://github.com/MedMNIST/MedMNIST/blob/main/examples/getting_started.ipynb)."
   ]
  },
  {
   "cell_type": "code",
   "execution_count": null,
   "metadata": {},
   "outputs": [],
   "source": [
    "# We define a simple CNN model for pneumonia classification\n",
    "from torch import nn\n",
    "\n",
    "class Net(nn.Module):\n",
    "    def __init__(self, in_channels, num_classes):\n",
    "        super(Net, self).__init__()\n",
    "\n",
    "        self.layer1 = nn.Sequential(\n",
    "            nn.Conv2d(in_channels, 16, kernel_size=3),\n",
    "            nn.BatchNorm2d(16),\n",
    "            nn.ReLU())\n",
    "\n",
    "        self.layer2 = nn.Sequential(\n",
    "            nn.Conv2d(16, 16, kernel_size=3),\n",
    "            nn.BatchNorm2d(16),\n",
    "            nn.ReLU(),\n",
    "            nn.MaxPool2d(kernel_size=2, stride=2))\n",
    "\n",
    "        self.layer3 = nn.Sequential(\n",
    "            nn.Conv2d(16, 64, kernel_size=3),\n",
    "            nn.BatchNorm2d(64),\n",
    "            nn.ReLU())\n",
    "        \n",
    "        self.layer4 = nn.Sequential(\n",
    "            nn.Conv2d(64, 64, kernel_size=3),\n",
    "            nn.BatchNorm2d(64),\n",
    "            nn.ReLU())\n",
    "\n",
    "        self.layer5 = nn.Sequential(\n",
    "            nn.Conv2d(64, 64, kernel_size=3, padding=1),\n",
    "            nn.BatchNorm2d(64),\n",
    "            nn.ReLU(),\n",
    "            nn.MaxPool2d(kernel_size=2, stride=2))\n",
    "\n",
    "        self.fc = nn.Sequential(\n",
    "            nn.Linear(64 * 4 * 4, 128),\n",
    "            nn.ReLU(),\n",
    "            nn.Linear(128, 128),\n",
    "            nn.ReLU(),\n",
    "            nn.Linear(128, num_classes-1)) # -1 if we use binary CLF\n",
    "\n",
    "    def forward(self, x):\n",
    "        x = self.layer1(x)\n",
    "        x = self.layer2(x)\n",
    "        x = self.layer3(x)\n",
    "        x = self.layer4(x)\n",
    "        x = self.layer5(x)\n",
    "        x = x.view(x.size(0), -1)\n",
    "        x = self.fc(x)\n",
    "        return x"
   ]
  },
  {
   "cell_type": "markdown",
   "metadata": {},
   "source": [
    "Initialization of model, criterion and optimizer"
   ]
  },
  {
   "cell_type": "code",
   "execution_count": null,
   "metadata": {},
   "outputs": [],
   "source": [
    "import torch\n",
    "from torch import optim\n",
    "\n",
    "DEVICE = torch.device(\"cuda:0\" if torch.cuda.is_available() else \"cpu\")\n",
    "print(f'Using device {DEVICE}')\n",
    "\n",
    "lr = 0.001\n",
    "\n",
    "model_base = Net(in_channels=n_channels, num_classes=n_classes).to(DEVICE)\n",
    "    \n",
    "# define loss function and optimizer\n",
    "criterion = nn.BCEWithLogitsLoss()\n",
    "    \n",
    "optimizer = optim.SGD(model_base.parameters(), lr=lr, momentum=0.9)\n"
   ]
  },
  {
   "cell_type": "markdown",
   "metadata": {},
   "source": [
    "# 4. Testing the Baseline and Storage of Results\n"
   ]
  },
  {
   "cell_type": "markdown",
   "metadata": {},
   "source": [
    "Defining hyperparameters and splitting of the dataset into test, validation, train."
   ]
  },
  {
   "cell_type": "code",
   "execution_count": null,
   "metadata": {},
   "outputs": [],
   "source": [
    "data_flag = 'pneumoniamnist'\n",
    "download = False  #  set to False if already loaded\n",
    "\n",
    "NUM_EPOCHS = 5\n",
    "BATCH_SIZE = 128\n",
    "#lr = 0.001\n",
    "\n",
    "info = INFO[data_flag]\n",
    "#task = info['task']\n",
    "#n_channels = info['n_channels']\n",
    "#n_classes = len(info['label'])\n",
    "\n",
    "DataClass = getattr(medmnist, info['python_class'])"
   ]
  },
  {
   "cell_type": "code",
   "execution_count": null,
   "metadata": {},
   "outputs": [],
   "source": [
    "from torchvision import transforms, utils\n",
    "from torch.utils.data import DataLoader, Dataset\n",
    "\n",
    "# preprocessing\n",
    "data_transform = transforms.Compose([\n",
    "    transforms.ToTensor(),\n",
    "    transforms.Normalize(mean=[.5], std=[.5])\n",
    "])\n",
    "\n",
    "# load the data\n",
    "train_dataset = DataClass(split='train', transform=data_transform, download=download)\n",
    "val_dataset = DataClass(split='val', transform=data_transform, download=download)\n",
    "test_dataset = DataClass(split='test', transform=data_transform, download=download)\n",
    "\n",
    "# ingest torch datasets data into torch dataloader\n",
    "train_loader = DataLoader(dataset=train_dataset, batch_size=BATCH_SIZE, shuffle=True)\n",
    "train_loader_at_eval = DataLoader(dataset=train_dataset, batch_size=2*BATCH_SIZE, shuffle=False)\n",
    "val_loader = DataLoader(dataset=val_dataset, batch_size=2*BATCH_SIZE, shuffle=False)\n",
    "test_loader = DataLoader(dataset=test_dataset, batch_size=2*BATCH_SIZE, shuffle=False)"
   ]
  },
  {
   "cell_type": "markdown",
   "metadata": {},
   "source": [
    "Defining evaluation metrics such as the area under the receiver operating characteristic curve (AUROC) and the accuracy (ACC)."
   ]
  },
  {
   "cell_type": "code",
   "execution_count": null,
   "metadata": {},
   "outputs": [],
   "source": [
    "def getAUC(y_true, y_score, task):\n",
    "    '''AUC metric.\n",
    "    :param y_true: the ground truth labels, shape: (n_samples, n_labels) or (n_samples,) if n_labels==1\n",
    "    :param y_score: the predicted score of each class,\n",
    "    shape: (n_samples, n_labels) or (n_samples, n_classes) or (n_samples,) if n_labels==1 or n_classes==1\n",
    "    :param task: the task of current dataset\n",
    "    '''\n",
    "    y_true = y_true.squeeze()\n",
    "    y_score = y_score.squeeze()\n",
    "\n",
    "    if task == 'multi-label, binary-class':\n",
    "        auc = 0\n",
    "        for i in range(y_score.shape[1]):\n",
    "            label_auc = roc_auc_score(y_true[:, i], y_score[:, i])\n",
    "            auc += label_auc\n",
    "        ret = auc / y_score.shape[1]\n",
    "    elif task == 'binary-class':\n",
    "        if y_score.ndim == 2:\n",
    "            y_score = y_score[:, -1]\n",
    "        else:\n",
    "            assert y_score.ndim == 1\n",
    "        ret = roc_auc_score(y_true, y_score)\n",
    "    else:\n",
    "        auc = 0\n",
    "        for i in range(y_score.shape[1]):\n",
    "            y_true_binary = (y_true == i).astype(float)\n",
    "            y_score_binary = y_score[:, i]\n",
    "            auc += roc_auc_score(y_true_binary, y_score_binary)\n",
    "        ret = auc / y_score.shape[1]\n",
    "\n",
    "    return ret\n",
    "\n",
    "def getACC(y_true, y_score, task, threshold=0.5):\n",
    "    '''Accuracy metric.\n",
    "    :param y_true: the ground truth labels, shape: (n_samples, n_labels) or (n_samples,) if n_labels==1\n",
    "    :param y_score: the predicted score of each class,\n",
    "    shape: (n_samples, n_labels) or (n_samples, n_classes) or (n_samples,) if n_labels==1 or n_classes==1\n",
    "    :param task: the task of current dataset\n",
    "    :param threshold: the threshold for multilabel and binary-class tasks\n",
    "    '''\n",
    "    y_true = y_true.squeeze()\n",
    "    y_score = y_score.squeeze()\n",
    "\n",
    "    if task == 'multi-label, binary-class':\n",
    "        y_pre = y_score > threshold\n",
    "        acc = 0\n",
    "        for label in range(y_true.shape[1]):\n",
    "            label_acc = accuracy_score(y_true[:, label], y_pre[:, label])\n",
    "            acc += label_acc\n",
    "        ret = acc / y_true.shape[1]\n",
    "    elif task == 'binary-class':\n",
    "        if y_score.ndim == 2:\n",
    "            y_score = y_score[:, -1]\n",
    "        else:\n",
    "            assert y_score.ndim == 1\n",
    "        ret = accuracy_score(y_true, y_score > threshold)\n",
    "    else:\n",
    "        ret = accuracy_score(y_true, np.argmax(y_score, axis=-1))\n",
    "\n",
    "    return ret"
   ]
  },
  {
   "cell_type": "markdown",
   "metadata": {},
   "source": [
    "Training the baseline pneumonia classification model."
   ]
  },
  {
   "cell_type": "code",
   "execution_count": null,
   "metadata": {},
   "outputs": [],
   "source": [
    "from tqdm import tqdm\n",
    "\n",
    "for epoch in range(NUM_EPOCHS):\n",
    "    train_correct = 0\n",
    "    train_total = 0\n",
    "    test_correct = 0\n",
    "    test_total = 0\n",
    "    \n",
    "    model_base.train()\n",
    "    for inputs, targets in tqdm(train_loader):\n",
    "        # forward + backward + optimize\n",
    "        optimizer.zero_grad()\n",
    "        outputs = model_base(inputs)\n",
    "        \n",
    "        targets = targets.float()\n",
    "        outputs = outputs.float()\n",
    "        \n",
    "        loss = criterion(outputs, targets)\n",
    "        \n",
    "        loss.backward()\n",
    "        optimizer.step()"
   ]
  },
  {
   "cell_type": "markdown",
   "metadata": {},
   "source": [
    "Validation and test of the baseline model. This will let us know how good our model when trained on real data."
   ]
  },
  {
   "cell_type": "code",
   "execution_count": null,
   "metadata": {},
   "outputs": [],
   "source": [
    "from sklearn.metrics import roc_auc_score\n",
    "from sklearn.metrics import accuracy_score\n",
    "import torch\n",
    "\n",
    "# evaluation\n",
    "def test(split, model):\n",
    "    model.eval()\n",
    "    y_true = torch.tensor([])\n",
    "    y_score = torch.tensor([])\n",
    "    \n",
    "    if split == 'train':\n",
    "        data_loader = train_loader_at_eval\n",
    "    elif split == 'val':\n",
    "        data_loader = val_loader\n",
    "    else:\n",
    "        data_loader = test_loader\n",
    "\n",
    "    with torch.no_grad():\n",
    "        for inputs, targets in data_loader:\n",
    "            outputs = model(inputs)\n",
    "\n",
    "            targets = targets.to(torch.float32)\n",
    "#             outputs = outputs.softmax(dim=-1)\n",
    "            outputs = outputs.sigmoid().detach().cpu()\n",
    "            \n",
    "            y_true = torch.cat((y_true, targets), 0)\n",
    "            y_score = torch.cat((y_score, outputs), 0)\n",
    "\n",
    "        y_true = y_true.numpy()\n",
    "        y_score = y_score.detach().numpy()\n",
    "        \n",
    "        evaluator = Evaluator(data_flag, split)\n",
    "        metrics = evaluator.evaluate(y_score)\n",
    "        \n",
    "        acc = getACC(y_true, y_score, task)\n",
    "        auc = getAUC(y_true, y_score, task)\n",
    "    \n",
    "        print('%s  auc: %.3f  acc:%.3f' % (split, auc, acc))\n",
    "        return acc, auc, y_true\n",
    "\n",
    "        \n",
    "print('==> Evaluating baseline model ...')\n",
    "acc, auc, y_true = test('train', model_base)\n",
    "acc, auc, y_true = test('val', model_base)\n",
    "acc, auc, y_true = test('test', model_base)"
   ]
  },
  {
   "cell_type": "markdown",
   "metadata": {},
   "source": [
    "# 5 Definition and Implementation of our GAN Method"
   ]
  },
  {
   "cell_type": "markdown",
   "metadata": {},
   "source": [
    "#### GAN Architecture Choice\n",
    "\n",
    "You may use any GAN architecture and loss function you deem suitable. \n",
    "\n",
    "To give some guidance, you could try a Deep Convolutional GAN ([DCGAN](https://arxiv.org/abs/1511.06434)). A helpful DCGAN implementation tutorial can be found [here](https://pytorch.org/tutorials/beginner/dcgan_faces_tutorial.html). \n",
    "\n",
    "*Note that you will need to adjust the layers of the network to match the dimensions of the input data.*\n",
    "\n",
    "DCGAN is an unconditional GAN architecture, which means that the data generation process is not controlled by the label information (pneumonia/normal). Hence, you would need to [extend the DCGAN architecture to a (DC)CGAN](https://machinelearningmastery.com/how-to-develop-a-conditional-generative-adversarial-network-from-scratch/) to be able to feed the labels as input into the generator and discriminator. \n",
    "\n",
    "An alternative to the class-conditional GAN is to train an unconditional GAN twice - once on data with positive label and once on data with negative label. \n",
    "\n",
    "*Note, instead of CGAN, you could also extend your DCGAN to the [Auxiliary Classifier GAN (ACGAN)] (https://arxiv.org/abs/1610.09585) architecture*. \n",
    "\n",
    "Also, feel free to optionally use another deep generative model for this task instead of a GAN. For example, here you find a [tutorial](https://github.com/Project-MONAI/GenerativeModels/blob/main/tutorials/generative/classifier_free_guidance/2d_ddpm_classifier_free_guidance_tutorial.ipynb) for training a class-conditional diffusion model."
   ]
  },
  {
   "cell_type": "code",
   "execution_count": null,
   "metadata": {},
   "outputs": [],
   "source": [
    "# Your code goes here."
   ]
  },
  {
   "cell_type": "markdown",
   "metadata": {},
   "source": [
    "#### Synthetic Data Evaluation Metric\n",
    "\n",
    "Given our hypothesis, we need to evaluate the GAN based on the downstream task i.e. the classification performance (AUC, ACC). However, we should also report a fidelity and diversity estimate of our synthetic data. This is not only useful as additional metric, but also as stopping criterion of GAN training (e.g., n epochs without improvement). We propose you use the [Fréchet Inception Distance](https://github.com/mseitzer/pytorch-fid), but feel free to suggest other or additional metrics. Feel free to use existing packages such as the [pytorch-fid](https://pypi.org/project/pytorch-fid/) package."
   ]
  },
  {
   "cell_type": "code",
   "execution_count": null,
   "metadata": {},
   "outputs": [],
   "source": [
    "# Your code/logs go here."
   ]
  },
  {
   "cell_type": "markdown",
   "metadata": {},
   "source": [
    "# 6. Test of our GAN Method and Storage of Results"
   ]
  },
  {
   "cell_type": "markdown",
   "metadata": {},
   "source": [
    "Now that you have trained your GAN, it is time for the big moment of testing our hypothesis. To do so, a balanced classifier training dataset (50% pneumonia, 50% normal) consisting only of synthetic data is suggested. You may sample this dataset from your trained conditional generator, store on disc and load it again here. "
   ]
  },
  {
   "cell_type": "code",
   "execution_count": null,
   "metadata": {},
   "outputs": [],
   "source": [
    "# read data from disc (maybe also check dimensions)\n",
    "generated_imgs_w_label_0 = None \n",
    "generated_imgs_w_label_1 = None \n",
    "\n",
    "# Your code goes here."
   ]
  },
  {
   "cell_type": "markdown",
   "metadata": {},
   "source": [
    "Below some helper code to help define a torch CustomImageDataset Class based on the generated images that are loaded from disc."
   ]
  },
  {
   "cell_type": "code",
   "execution_count": null,
   "metadata": {},
   "outputs": [],
   "source": [
    "from torch.utils.data import Dataset\n",
    "import pandas as pd\n",
    "\n",
    "class CustomImageDataset(Dataset):\n",
    "    def __init__(self, imgs_label_0, imgs_label_1, transform=None, target_transform=None):\n",
    "        self.img_labels = pd.DataFrame(\n",
    "            np.concatenate((np.zeros(len(imgs_label_0), dtype=int),\n",
    "                            np.ones(len(imgs_label_1), dtype=int)))\n",
    "        )\n",
    "        self.images = np.concatenate((gen_imgs_label_0, gen_imgs_label_1))\n",
    "        self.transform = transform\n",
    "        self.target_transform = target_transform\n",
    "\n",
    "    def __len__(self):\n",
    "        return len(self.img_labels)\n",
    "\n",
    "    def __getitem__(self, idx):\n",
    "        image = torch.from_numpy(self.images[idx])\n",
    "        label = np.array([self.img_labels.iloc[idx, 0]])\n",
    "        if self.transform:\n",
    "            image = self.transform(image)\n",
    "        if self.target_transform:\n",
    "            label = self.target_transform(label)\n",
    "        return image, label"
   ]
  },
  {
   "cell_type": "code",
   "execution_count": null,
   "metadata": {},
   "outputs": [],
   "source": [
    "# Create torch dataset with generated images \n",
    "train_gen_dataset = CustomImageDataset(generated_imgs_w_label_0, generated_imgs_w_label_1)\n",
    "# Create torch dataloader \n",
    "train_gen_loader = data.DataLoader(dataset=train_gen_dataset, batch_size=BATCH_SIZE, shuffle=True)"
   ]
  },
  {
   "cell_type": "markdown",
   "metadata": {},
   "source": [
    "Training of the classifier, as was done above with real data, but now with the generated dataset."
   ]
  },
  {
   "cell_type": "code",
   "execution_count": null,
   "metadata": {},
   "outputs": [],
   "source": [
    "# Your code goes here."
   ]
  },
  {
   "cell_type": "markdown",
   "metadata": {},
   "source": [
    "Test of the classifier, as was done above with real data, but now with the generated dataset."
   ]
  },
  {
   "cell_type": "code",
   "execution_count": null,
   "metadata": {},
   "outputs": [],
   "source": [
    "# Your code goes here."
   ]
  },
  {
   "cell_type": "markdown",
   "metadata": {},
   "source": [
    "# 7. Comparison of our Method and Baseline, Interpretration of Results"
   ]
  },
  {
   "cell_type": "markdown",
   "metadata": {},
   "source": [
    "You may use some visualization techniques here to compare the baseline (i) with your method (ii). For example, it would be interesting to plot both ROC-AUC curves to visually compare them. Another visualization option is a confusion matrix for (i) and (ii)."
   ]
  },
  {
   "cell_type": "code",
   "execution_count": null,
   "metadata": {},
   "outputs": [],
   "source": [
    "# example function for plotting multiple ROC-AUC curve in one figure.\n",
    "def plot_roc_cur(fpr1, tpr1, fpr2, tpr2, auc1, auc2, model_name):  \n",
    "    plt.plot(fpr1, tpr1, color='orange', label='Classifier 1 (AUROC = %0.3f)' % auc_1)\n",
    "    plt.plot(fpr2, tpr2, color='gray', label='Classifier 2 (AUROC = %0.3f)' % auc_1)\n",
    "    plt.plot([0, 1], [0, 1], color='darkblue', linestyle='--')\n",
    "    plt.xlabel('False Positive Rate')\n",
    "    plt.ylabel('True Positive Rate')\n",
    "    plt.title('Receiver Operating Characteristic (ROC) Curve {}'.format(model))\n",
    "    plt.legend()\n",
    "    plt.show()"
   ]
  },
  {
   "cell_type": "code",
   "execution_count": null,
   "metadata": {},
   "outputs": [],
   "source": [
    "# Your code goes here."
   ]
  },
  {
   "cell_type": "markdown",
   "metadata": {},
   "source": [
    "How would you interpret the results you achieved? Would you say your GAN-based privatization method is useful in practice? Do you reject or accept the hypothesis defined above?"
   ]
  },
  {
   "cell_type": "code",
   "execution_count": null,
   "metadata": {},
   "outputs": [],
   "source": [
    "# Your answer goes here"
   ]
  },
  {
   "cell_type": "markdown",
   "metadata": {},
   "source": [
    "# 8. Reflective Account"
   ]
  },
  {
   "cell_type": "markdown",
   "metadata": {},
   "source": [
    "What could be the reasons why our study did or did not succeed? What do you think are the limitations of our study? What can we learn and takeaway from this exercise? How should it inform our future work? What would you try next?"
   ]
  },
  {
   "cell_type": "code",
   "execution_count": null,
   "metadata": {},
   "outputs": [],
   "source": [
    "# Your answer goes here."
   ]
  },
  {
   "cell_type": "markdown",
   "metadata": {},
   "source": [
    " "
   ]
  },
  {
   "cell_type": "markdown",
   "metadata": {},
   "source": [
    "Thank you for working on this study. We hope you enjoyed it and it was a good learning experience for you.\n",
    "\n",
    "Please send any feedback you may have to [Kaisar.Kushibar@ub.edu](mailto:Kaisar.Kushibar@ub.edu)."
   ]
  },
  {
   "cell_type": "markdown",
   "metadata": {},
   "source": [
    "# 9. Acknowledgement\n",
    "Big thank you to Richard Osuala!"
   ]
  },
  {
   "cell_type": "markdown",
   "metadata": {},
   "source": [
    " "
   ]
  }
 ],
 "metadata": {
  "colab": {
   "collapsed_sections": [],
   "name": "Copy of Unit4_FacingTheProblem.ipynb",
   "provenance": [],
   "toc_visible": true
  },
  "kernelspec": {
   "display_name": "Python 3 (ipykernel)",
   "language": "python",
   "name": "python3"
  },
  "language_info": {
   "codemirror_mode": {
    "name": "ipython",
    "version": 3
   },
   "file_extension": ".py",
   "mimetype": "text/x-python",
   "name": "python",
   "nbconvert_exporter": "python",
   "pygments_lexer": "ipython3",
   "version": "3.7.3"
  },
  "widgets": {
   "application/vnd.jupyter.widget-state+json": {
    "06433cd489184854afaf9856b615f547": {
     "model_module": "@jupyter-widgets/controls",
     "model_name": "SliderStyleModel",
     "state": {
      "_model_module": "@jupyter-widgets/controls",
      "_model_module_version": "1.5.0",
      "_model_name": "SliderStyleModel",
      "_view_count": null,
      "_view_module": "@jupyter-widgets/base",
      "_view_module_version": "1.2.0",
      "_view_name": "StyleView",
      "description_width": "",
      "handle_color": null
     }
    },
    "0cc4a5a1c49742f6879f99aed636a71c": {
     "model_module": "@jupyter-widgets/base",
     "model_name": "LayoutModel",
     "state": {
      "_model_module": "@jupyter-widgets/base",
      "_model_module_version": "1.2.0",
      "_model_name": "LayoutModel",
      "_view_count": null,
      "_view_module": "@jupyter-widgets/base",
      "_view_module_version": "1.2.0",
      "_view_name": "LayoutView",
      "align_content": null,
      "align_items": null,
      "align_self": null,
      "border": null,
      "bottom": null,
      "display": null,
      "flex": null,
      "flex_flow": null,
      "grid_area": null,
      "grid_auto_columns": null,
      "grid_auto_flow": null,
      "grid_auto_rows": null,
      "grid_column": null,
      "grid_gap": null,
      "grid_row": null,
      "grid_template_areas": null,
      "grid_template_columns": null,
      "grid_template_rows": null,
      "height": null,
      "justify_content": null,
      "justify_items": null,
      "left": null,
      "margin": null,
      "max_height": null,
      "max_width": null,
      "min_height": null,
      "min_width": null,
      "object_fit": null,
      "object_position": null,
      "order": null,
      "overflow": null,
      "overflow_x": null,
      "overflow_y": null,
      "padding": null,
      "right": null,
      "top": null,
      "visibility": null,
      "width": null
     }
    },
    "0ea88f28dace4515a3f5939071a2f9fe": {
     "model_module": "@jupyter-widgets/controls",
     "model_name": "VBoxModel",
     "state": {
      "_dom_classes": [
       "widget-interact"
      ],
      "_model_module": "@jupyter-widgets/controls",
      "_model_module_version": "1.5.0",
      "_model_name": "VBoxModel",
      "_view_count": null,
      "_view_module": "@jupyter-widgets/controls",
      "_view_module_version": "1.5.0",
      "_view_name": "VBoxView",
      "box_style": "",
      "children": [
       "IPY_MODEL_e0489801265a48b3a425331dfbfab0ea",
       "IPY_MODEL_194d131ba5fa478b9bf4088f13dc6670"
      ],
      "layout": "IPY_MODEL_fcb6afb123b5487fa0f4240213aa0dd2"
     }
    },
    "194d131ba5fa478b9bf4088f13dc6670": {
     "model_module": "@jupyter-widgets/output",
     "model_name": "OutputModel",
     "state": {
      "_dom_classes": [],
      "_model_module": "@jupyter-widgets/output",
      "_model_module_version": "1.0.0",
      "_model_name": "OutputModel",
      "_view_count": null,
      "_view_module": "@jupyter-widgets/output",
      "_view_module_version": "1.0.0",
      "_view_name": "OutputView",
      "layout": "IPY_MODEL_6488d9f6a40a4059b951674497606b07",
      "msg_id": "",
      "outputs": [
       {
        "image/png": "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\n",
        "metadata": {
         "needs_background": "light",
         "tags": []
        },
        "output_type": "display_data",
        "text/plain": "<Figure size 720x720 with 1 Axes>"
       },
       {
        "metadata": {
         "tags": []
        },
        "output_type": "stream",
        "stream": "stdout",
        "text": "RMSE:  0.08292063659696211\nR2:  0.997295929436106\n"
       }
      ]
     }
    },
    "1c835bb684da448b929dd539983394de": {
     "model_module": "@jupyter-widgets/controls",
     "model_name": "DescriptionStyleModel",
     "state": {
      "_model_module": "@jupyter-widgets/controls",
      "_model_module_version": "1.5.0",
      "_model_name": "DescriptionStyleModel",
      "_view_count": null,
      "_view_module": "@jupyter-widgets/base",
      "_view_module_version": "1.2.0",
      "_view_name": "StyleView",
      "description_width": ""
     }
    },
    "2172b839ef5f40d6853425bf57e86675": {
     "model_module": "@jupyter-widgets/base",
     "model_name": "LayoutModel",
     "state": {
      "_model_module": "@jupyter-widgets/base",
      "_model_module_version": "1.2.0",
      "_model_name": "LayoutModel",
      "_view_count": null,
      "_view_module": "@jupyter-widgets/base",
      "_view_module_version": "1.2.0",
      "_view_name": "LayoutView",
      "align_content": null,
      "align_items": null,
      "align_self": null,
      "border": null,
      "bottom": null,
      "display": null,
      "flex": null,
      "flex_flow": null,
      "grid_area": null,
      "grid_auto_columns": null,
      "grid_auto_flow": null,
      "grid_auto_rows": null,
      "grid_column": null,
      "grid_gap": null,
      "grid_row": null,
      "grid_template_areas": null,
      "grid_template_columns": null,
      "grid_template_rows": null,
      "height": null,
      "justify_content": null,
      "justify_items": null,
      "left": null,
      "margin": null,
      "max_height": null,
      "max_width": null,
      "min_height": null,
      "min_width": null,
      "object_fit": null,
      "object_position": null,
      "order": null,
      "overflow": null,
      "overflow_x": null,
      "overflow_y": null,
      "padding": null,
      "right": null,
      "top": null,
      "visibility": null,
      "width": null
     }
    },
    "2d729d3f27bd4d49a459772cfa014654": {
     "model_module": "@jupyter-widgets/controls",
     "model_name": "DescriptionStyleModel",
     "state": {
      "_model_module": "@jupyter-widgets/controls",
      "_model_module_version": "1.5.0",
      "_model_name": "DescriptionStyleModel",
      "_view_count": null,
      "_view_module": "@jupyter-widgets/base",
      "_view_module_version": "1.2.0",
      "_view_name": "StyleView",
      "description_width": ""
     }
    },
    "3c763e1745aa4717ab82c4eabe24c0a0": {
     "model_module": "@jupyter-widgets/controls",
     "model_name": "DescriptionStyleModel",
     "state": {
      "_model_module": "@jupyter-widgets/controls",
      "_model_module_version": "1.5.0",
      "_model_name": "DescriptionStyleModel",
      "_view_count": null,
      "_view_module": "@jupyter-widgets/base",
      "_view_module_version": "1.2.0",
      "_view_name": "StyleView",
      "description_width": ""
     }
    },
    "40beaef20c1a40f198c27164b8849d24": {
     "model_module": "@jupyter-widgets/controls",
     "model_name": "VBoxModel",
     "state": {
      "_dom_classes": [
       "widget-interact"
      ],
      "_model_module": "@jupyter-widgets/controls",
      "_model_module_version": "1.5.0",
      "_model_name": "VBoxModel",
      "_view_count": null,
      "_view_module": "@jupyter-widgets/controls",
      "_view_module_version": "1.5.0",
      "_view_name": "VBoxView",
      "box_style": "",
      "children": [
       "IPY_MODEL_70b163dbc057444da99e77ced1a80735",
       "IPY_MODEL_f01b61b3a9a74d7fbd87bed268e5a773"
      ],
      "layout": "IPY_MODEL_60fb1170b56a4562ab661256f85e7a47"
     }
    },
    "42b6e79730f24d978be9539c2b70eaa6": {
     "model_module": "@jupyter-widgets/controls",
     "model_name": "DescriptionStyleModel",
     "state": {
      "_model_module": "@jupyter-widgets/controls",
      "_model_module_version": "1.5.0",
      "_model_name": "DescriptionStyleModel",
      "_view_count": null,
      "_view_module": "@jupyter-widgets/base",
      "_view_module_version": "1.2.0",
      "_view_name": "StyleView",
      "description_width": ""
     }
    },
    "447908132030434ba6638ecf67f81f04": {
     "model_module": "@jupyter-widgets/base",
     "model_name": "LayoutModel",
     "state": {
      "_model_module": "@jupyter-widgets/base",
      "_model_module_version": "1.2.0",
      "_model_name": "LayoutModel",
      "_view_count": null,
      "_view_module": "@jupyter-widgets/base",
      "_view_module_version": "1.2.0",
      "_view_name": "LayoutView",
      "align_content": null,
      "align_items": null,
      "align_self": null,
      "border": null,
      "bottom": null,
      "display": null,
      "flex": null,
      "flex_flow": null,
      "grid_area": null,
      "grid_auto_columns": null,
      "grid_auto_flow": null,
      "grid_auto_rows": null,
      "grid_column": null,
      "grid_gap": null,
      "grid_row": null,
      "grid_template_areas": null,
      "grid_template_columns": null,
      "grid_template_rows": null,
      "height": null,
      "justify_content": null,
      "justify_items": null,
      "left": null,
      "margin": null,
      "max_height": null,
      "max_width": null,
      "min_height": null,
      "min_width": null,
      "object_fit": null,
      "object_position": null,
      "order": null,
      "overflow": null,
      "overflow_x": null,
      "overflow_y": null,
      "padding": null,
      "right": null,
      "top": null,
      "visibility": null,
      "width": null
     }
    },
    "46d38fb7aba44020bbbe6747173c9b6e": {
     "model_module": "@jupyter-widgets/base",
     "model_name": "LayoutModel",
     "state": {
      "_model_module": "@jupyter-widgets/base",
      "_model_module_version": "1.2.0",
      "_model_name": "LayoutModel",
      "_view_count": null,
      "_view_module": "@jupyter-widgets/base",
      "_view_module_version": "1.2.0",
      "_view_name": "LayoutView",
      "align_content": null,
      "align_items": null,
      "align_self": null,
      "border": null,
      "bottom": null,
      "display": null,
      "flex": null,
      "flex_flow": null,
      "grid_area": null,
      "grid_auto_columns": null,
      "grid_auto_flow": null,
      "grid_auto_rows": null,
      "grid_column": null,
      "grid_gap": null,
      "grid_row": null,
      "grid_template_areas": null,
      "grid_template_columns": null,
      "grid_template_rows": null,
      "height": null,
      "justify_content": null,
      "justify_items": null,
      "left": null,
      "margin": null,
      "max_height": null,
      "max_width": null,
      "min_height": null,
      "min_width": null,
      "object_fit": null,
      "object_position": null,
      "order": null,
      "overflow": null,
      "overflow_x": null,
      "overflow_y": null,
      "padding": null,
      "right": null,
      "top": null,
      "visibility": null,
      "width": null
     }
    },
    "487a4cffcc6844459e4ef1303ba81b67": {
     "model_module": "@jupyter-widgets/base",
     "model_name": "LayoutModel",
     "state": {
      "_model_module": "@jupyter-widgets/base",
      "_model_module_version": "1.2.0",
      "_model_name": "LayoutModel",
      "_view_count": null,
      "_view_module": "@jupyter-widgets/base",
      "_view_module_version": "1.2.0",
      "_view_name": "LayoutView",
      "align_content": null,
      "align_items": null,
      "align_self": null,
      "border": null,
      "bottom": null,
      "display": null,
      "flex": null,
      "flex_flow": null,
      "grid_area": null,
      "grid_auto_columns": null,
      "grid_auto_flow": null,
      "grid_auto_rows": null,
      "grid_column": null,
      "grid_gap": null,
      "grid_row": null,
      "grid_template_areas": null,
      "grid_template_columns": null,
      "grid_template_rows": null,
      "height": null,
      "justify_content": null,
      "justify_items": null,
      "left": null,
      "margin": null,
      "max_height": null,
      "max_width": null,
      "min_height": null,
      "min_width": null,
      "object_fit": null,
      "object_position": null,
      "order": null,
      "overflow": null,
      "overflow_x": null,
      "overflow_y": null,
      "padding": null,
      "right": null,
      "top": null,
      "visibility": null,
      "width": null
     }
    },
    "4a48e8fdfa2f4c89a2768d2373b5e395": {
     "model_module": "@jupyter-widgets/base",
     "model_name": "LayoutModel",
     "state": {
      "_model_module": "@jupyter-widgets/base",
      "_model_module_version": "1.2.0",
      "_model_name": "LayoutModel",
      "_view_count": null,
      "_view_module": "@jupyter-widgets/base",
      "_view_module_version": "1.2.0",
      "_view_name": "LayoutView",
      "align_content": null,
      "align_items": null,
      "align_self": null,
      "border": null,
      "bottom": null,
      "display": null,
      "flex": null,
      "flex_flow": null,
      "grid_area": null,
      "grid_auto_columns": null,
      "grid_auto_flow": null,
      "grid_auto_rows": null,
      "grid_column": null,
      "grid_gap": null,
      "grid_row": null,
      "grid_template_areas": null,
      "grid_template_columns": null,
      "grid_template_rows": null,
      "height": null,
      "justify_content": null,
      "justify_items": null,
      "left": null,
      "margin": null,
      "max_height": null,
      "max_width": null,
      "min_height": null,
      "min_width": null,
      "object_fit": null,
      "object_position": null,
      "order": null,
      "overflow": null,
      "overflow_x": null,
      "overflow_y": null,
      "padding": null,
      "right": null,
      "top": null,
      "visibility": null,
      "width": null
     }
    },
    "4cd0a57bb4df4fa794fa11bebe339df2": {
     "model_module": "@jupyter-widgets/controls",
     "model_name": "DropdownModel",
     "state": {
      "_dom_classes": [],
      "_model_module": "@jupyter-widgets/controls",
      "_model_module_version": "1.5.0",
      "_model_name": "DropdownModel",
      "_options_labels": [
       "Cases",
       "Hospitalized",
       "ICU",
       "Dead",
       "Recovered"
      ],
      "_view_count": null,
      "_view_module": "@jupyter-widgets/controls",
      "_view_module_version": "1.5.0",
      "_view_name": "DropdownView",
      "description": "column",
      "description_tooltip": null,
      "disabled": false,
      "index": 0,
      "layout": "IPY_MODEL_6820ddb03b1344869994169b7f6423a8",
      "style": "IPY_MODEL_918388956f2942f7803aa3e911d99247"
     }
    },
    "53dc0df520c54c2a8232856e116edfb8": {
     "model_module": "@jupyter-widgets/controls",
     "model_name": "VBoxModel",
     "state": {
      "_dom_classes": [
       "widget-interact"
      ],
      "_model_module": "@jupyter-widgets/controls",
      "_model_module_version": "1.5.0",
      "_model_name": "VBoxModel",
      "_view_count": null,
      "_view_module": "@jupyter-widgets/controls",
      "_view_module_version": "1.5.0",
      "_view_name": "VBoxView",
      "box_style": "",
      "children": [
       "IPY_MODEL_6bd57ec6ef0942c7a9376b0c2a1b72af",
       "IPY_MODEL_7f152b5060ab401e868a3c50fc79001f"
      ],
      "layout": "IPY_MODEL_447908132030434ba6638ecf67f81f04"
     }
    },
    "556279fc62c74ebbadf9735877f2ac18": {
     "model_module": "@jupyter-widgets/controls",
     "model_name": "VBoxModel",
     "state": {
      "_dom_classes": [
       "widget-interact"
      ],
      "_model_module": "@jupyter-widgets/controls",
      "_model_module_version": "1.5.0",
      "_model_name": "VBoxModel",
      "_view_count": null,
      "_view_module": "@jupyter-widgets/controls",
      "_view_module_version": "1.5.0",
      "_view_name": "VBoxView",
      "box_style": "",
      "children": [
       "IPY_MODEL_4cd0a57bb4df4fa794fa11bebe339df2",
       "IPY_MODEL_a6036960bc6248c18b41c79f6fc02ff0"
      ],
      "layout": "IPY_MODEL_b494259ebce5486bbc87b60052a59df4"
     }
    },
    "57bc0ee99eaf419e954c20714b1ddfee": {
     "model_module": "@jupyter-widgets/base",
     "model_name": "LayoutModel",
     "state": {
      "_model_module": "@jupyter-widgets/base",
      "_model_module_version": "1.2.0",
      "_model_name": "LayoutModel",
      "_view_count": null,
      "_view_module": "@jupyter-widgets/base",
      "_view_module_version": "1.2.0",
      "_view_name": "LayoutView",
      "align_content": null,
      "align_items": null,
      "align_self": null,
      "border": null,
      "bottom": null,
      "display": null,
      "flex": null,
      "flex_flow": null,
      "grid_area": null,
      "grid_auto_columns": null,
      "grid_auto_flow": null,
      "grid_auto_rows": null,
      "grid_column": null,
      "grid_gap": null,
      "grid_row": null,
      "grid_template_areas": null,
      "grid_template_columns": null,
      "grid_template_rows": null,
      "height": null,
      "justify_content": null,
      "justify_items": null,
      "left": null,
      "margin": null,
      "max_height": null,
      "max_width": null,
      "min_height": null,
      "min_width": null,
      "object_fit": null,
      "object_position": null,
      "order": null,
      "overflow": null,
      "overflow_x": null,
      "overflow_y": null,
      "padding": null,
      "right": null,
      "top": null,
      "visibility": null,
      "width": null
     }
    },
    "5968b5f0309545b9a02027abcb42512a": {
     "model_module": "@jupyter-widgets/base",
     "model_name": "LayoutModel",
     "state": {
      "_model_module": "@jupyter-widgets/base",
      "_model_module_version": "1.2.0",
      "_model_name": "LayoutModel",
      "_view_count": null,
      "_view_module": "@jupyter-widgets/base",
      "_view_module_version": "1.2.0",
      "_view_name": "LayoutView",
      "align_content": null,
      "align_items": null,
      "align_self": null,
      "border": null,
      "bottom": null,
      "display": null,
      "flex": null,
      "flex_flow": null,
      "grid_area": null,
      "grid_auto_columns": null,
      "grid_auto_flow": null,
      "grid_auto_rows": null,
      "grid_column": null,
      "grid_gap": null,
      "grid_row": null,
      "grid_template_areas": null,
      "grid_template_columns": null,
      "grid_template_rows": null,
      "height": null,
      "justify_content": null,
      "justify_items": null,
      "left": null,
      "margin": null,
      "max_height": null,
      "max_width": null,
      "min_height": null,
      "min_width": null,
      "object_fit": null,
      "object_position": null,
      "order": null,
      "overflow": null,
      "overflow_x": null,
      "overflow_y": null,
      "padding": null,
      "right": null,
      "top": null,
      "visibility": null,
      "width": null
     }
    },
    "5e6d26dc58f84d8bbe37f0da4b1bdd7a": {
     "model_module": "@jupyter-widgets/controls",
     "model_name": "VBoxModel",
     "state": {
      "_dom_classes": [
       "widget-interact"
      ],
      "_model_module": "@jupyter-widgets/controls",
      "_model_module_version": "1.5.0",
      "_model_name": "VBoxModel",
      "_view_count": null,
      "_view_module": "@jupyter-widgets/controls",
      "_view_module_version": "1.5.0",
      "_view_name": "VBoxView",
      "box_style": "",
      "children": [
       "IPY_MODEL_d0c55367fff34869bef2404b0b12cfc7",
       "IPY_MODEL_6346c5444cc7490d9ae22f810440ba4f"
      ],
      "layout": "IPY_MODEL_2172b839ef5f40d6853425bf57e86675"
     }
    },
    "5fc32e96c8554b57923b003a38ecda20": {
     "model_module": "@jupyter-widgets/base",
     "model_name": "LayoutModel",
     "state": {
      "_model_module": "@jupyter-widgets/base",
      "_model_module_version": "1.2.0",
      "_model_name": "LayoutModel",
      "_view_count": null,
      "_view_module": "@jupyter-widgets/base",
      "_view_module_version": "1.2.0",
      "_view_name": "LayoutView",
      "align_content": null,
      "align_items": null,
      "align_self": null,
      "border": null,
      "bottom": null,
      "display": null,
      "flex": null,
      "flex_flow": null,
      "grid_area": null,
      "grid_auto_columns": null,
      "grid_auto_flow": null,
      "grid_auto_rows": null,
      "grid_column": null,
      "grid_gap": null,
      "grid_row": null,
      "grid_template_areas": null,
      "grid_template_columns": null,
      "grid_template_rows": null,
      "height": null,
      "justify_content": null,
      "justify_items": null,
      "left": null,
      "margin": null,
      "max_height": null,
      "max_width": null,
      "min_height": null,
      "min_width": null,
      "object_fit": null,
      "object_position": null,
      "order": null,
      "overflow": null,
      "overflow_x": null,
      "overflow_y": null,
      "padding": null,
      "right": null,
      "top": null,
      "visibility": null,
      "width": null
     }
    },
    "60fb1170b56a4562ab661256f85e7a47": {
     "model_module": "@jupyter-widgets/base",
     "model_name": "LayoutModel",
     "state": {
      "_model_module": "@jupyter-widgets/base",
      "_model_module_version": "1.2.0",
      "_model_name": "LayoutModel",
      "_view_count": null,
      "_view_module": "@jupyter-widgets/base",
      "_view_module_version": "1.2.0",
      "_view_name": "LayoutView",
      "align_content": null,
      "align_items": null,
      "align_self": null,
      "border": null,
      "bottom": null,
      "display": null,
      "flex": null,
      "flex_flow": null,
      "grid_area": null,
      "grid_auto_columns": null,
      "grid_auto_flow": null,
      "grid_auto_rows": null,
      "grid_column": null,
      "grid_gap": null,
      "grid_row": null,
      "grid_template_areas": null,
      "grid_template_columns": null,
      "grid_template_rows": null,
      "height": null,
      "justify_content": null,
      "justify_items": null,
      "left": null,
      "margin": null,
      "max_height": null,
      "max_width": null,
      "min_height": null,
      "min_width": null,
      "object_fit": null,
      "object_position": null,
      "order": null,
      "overflow": null,
      "overflow_x": null,
      "overflow_y": null,
      "padding": null,
      "right": null,
      "top": null,
      "visibility": null,
      "width": null
     }
    },
    "619116d6d2a746369fcb3ae24e6e0812": {
     "model_module": "@jupyter-widgets/output",
     "model_name": "OutputModel",
     "state": {
      "_dom_classes": [],
      "_model_module": "@jupyter-widgets/output",
      "_model_module_version": "1.0.0",
      "_model_name": "OutputModel",
      "_view_count": null,
      "_view_module": "@jupyter-widgets/output",
      "_view_module_version": "1.0.0",
      "_view_name": "OutputView",
      "layout": "IPY_MODEL_e58d578d82524888a76d97a10137a946",
      "msg_id": "",
      "outputs": [
       {
        "metadata": {
         "tags": []
        },
        "output_type": "display_data",
        "text/html": "<div>\n<style scoped>\n    .dataframe tbody tr th:only-of-type {\n        vertical-align: middle;\n    }\n\n    .dataframe tbody tr th {\n        vertical-align: top;\n    }\n\n    .dataframe thead th {\n        text-align: right;\n    }\n</style>\n<table border=\"1\" class=\"dataframe\">\n  <thead>\n    <tr style=\"text-align: right;\">\n      <th></th>\n      <th>Date</th>\n    </tr>\n  </thead>\n  <tbody>\n    <tr>\n      <th>1</th>\n      <td>2020-02-20</td>\n    </tr>\n  </tbody>\n</table>\n</div>",
        "text/plain": "         Date\n1  2020-02-20"
       }
      ]
     }
    },
    "61f0ff17d7cc4aae90fb58222f721008": {
     "model_module": "@jupyter-widgets/controls",
     "model_name": "DescriptionStyleModel",
     "state": {
      "_model_module": "@jupyter-widgets/controls",
      "_model_module_version": "1.5.0",
      "_model_name": "DescriptionStyleModel",
      "_view_count": null,
      "_view_module": "@jupyter-widgets/base",
      "_view_module_version": "1.2.0",
      "_view_name": "StyleView",
      "description_width": ""
     }
    },
    "6346c5444cc7490d9ae22f810440ba4f": {
     "model_module": "@jupyter-widgets/output",
     "model_name": "OutputModel",
     "state": {
      "_dom_classes": [],
      "_model_module": "@jupyter-widgets/output",
      "_model_module_version": "1.0.0",
      "_model_name": "OutputModel",
      "_view_count": null,
      "_view_module": "@jupyter-widgets/output",
      "_view_module_version": "1.0.0",
      "_view_name": "OutputView",
      "layout": "IPY_MODEL_5968b5f0309545b9a02027abcb42512a",
      "msg_id": "",
      "outputs": [
       {
        "metadata": {
         "tags": []
        },
        "output_type": "stream",
        "stream": "stdout",
        "text": "Fit ARIMA: order=(1, 1, 1) seasonal_order=(0, 1, 1, 12); AIC=-128.081, BIC=-118.622, Fit time=1.180 seconds\nFit ARIMA: order=(0, 1, 0) seasonal_order=(0, 1, 0, 12); AIC=-128.773, BIC=-124.990, Fit time=0.072 seconds\n"
       },
       {
        "metadata": {
         "tags": []
        },
        "output_type": "stream",
        "stream": "stdout",
        "text": "Fit ARIMA: order=(1, 1, 0) seasonal_order=(1, 1, 0, 12); AIC=-129.576, BIC=-122.009, Fit time=0.626 seconds\n"
       },
       {
        "metadata": {
         "tags": []
        },
        "output_type": "stream",
        "stream": "stdout",
        "text": "Fit ARIMA: order=(0, 1, 1) seasonal_order=(0, 1, 1, 12); AIC=-129.172, BIC=-121.605, Fit time=0.949 seconds\n"
       },
       {
        "metadata": {
         "tags": []
        },
        "output_type": "stream",
        "stream": "stdout",
        "text": "Fit ARIMA: order=(1, 1, 0) seasonal_order=(0, 1, 0, 12); AIC=-130.586, BIC=-124.911, Fit time=0.242 seconds\n"
       },
       {
        "metadata": {
         "tags": []
        },
        "output_type": "stream",
        "stream": "stdout",
        "text": "Fit ARIMA: order=(1, 1, 0) seasonal_order=(0, 1, 1, 12); AIC=-129.746, BIC=-122.178, Fit time=0.536 seconds\n"
       },
       {
        "metadata": {
         "tags": []
        },
        "output_type": "stream",
        "stream": "stdout",
        "text": "Fit ARIMA: order=(1, 1, 0) seasonal_order=(1, 1, 1, 12); AIC=-127.564, BIC=-118.105, Fit time=1.710 seconds\n"
       },
       {
        "metadata": {
         "tags": []
        },
        "output_type": "stream",
        "stream": "stdout",
        "text": "Fit ARIMA: order=(2, 1, 0) seasonal_order=(0, 1, 0, 12); AIC=-129.156, BIC=-121.589, Fit time=0.399 seconds\n"
       },
       {
        "metadata": {
         "tags": []
        },
        "output_type": "stream",
        "stream": "stdout",
        "text": "Fit ARIMA: order=(1, 1, 1) seasonal_order=(0, 1, 0, 12); AIC=-128.769, BIC=-121.201, Fit time=0.607 seconds\n"
       },
       {
        "metadata": {
         "tags": []
        },
        "output_type": "stream",
        "stream": "stdout",
        "text": "Fit ARIMA: order=(2, 1, 1) seasonal_order=(0, 1, 0, 12); AIC=-128.271, BIC=-118.812, Fit time=0.997 seconds\nTotal fit time: 7.322 seconds\n"
       },
       {
        "metadata": {
         "tags": []
        },
        "output_type": "stream",
        "stream": "stdout",
        "text": "\n\nCases : \n\nDay 1, Cases: 191198\nDay 2, Cases: 179569\nDay 3, Cases: 168142\nDay 4, Cases: 158913\nDay 5, Cases: 149977\nDay 6, Cases: 141552\nDay 7, Cases: 133186\nDay 8, Cases: 125067\nDay 9, Cases: 117417\nDay 10, Cases: 110025\n\n\n"
       },
       {
        "image/png": "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\n",
        "metadata": {
         "needs_background": "light",
         "tags": []
        },
        "output_type": "display_data",
        "text/plain": "<Figure size 720x720 with 1 Axes>"
       }
      ]
     }
    },
    "642f763dce3d4340bd16472f6d1bc27c": {
     "model_module": "@jupyter-widgets/controls",
     "model_name": "DropdownModel",
     "state": {
      "_dom_classes": [],
      "_model_module": "@jupyter-widgets/controls",
      "_model_module_version": "1.5.0",
      "_model_name": "DropdownModel",
      "_options_labels": [
       "Cases",
       "Hospitalized",
       "ICU",
       "Dead",
       "Recovered"
      ],
      "_view_count": null,
      "_view_module": "@jupyter-widgets/controls",
      "_view_module_version": "1.5.0",
      "_view_name": "DropdownView",
      "description": "column",
      "description_tooltip": null,
      "disabled": false,
      "index": 0,
      "layout": "IPY_MODEL_57bc0ee99eaf419e954c20714b1ddfee",
      "style": "IPY_MODEL_fda5bf36fbf94cfd8bc065f64117801f"
     }
    },
    "6488d9f6a40a4059b951674497606b07": {
     "model_module": "@jupyter-widgets/base",
     "model_name": "LayoutModel",
     "state": {
      "_model_module": "@jupyter-widgets/base",
      "_model_module_version": "1.2.0",
      "_model_name": "LayoutModel",
      "_view_count": null,
      "_view_module": "@jupyter-widgets/base",
      "_view_module_version": "1.2.0",
      "_view_name": "LayoutView",
      "align_content": null,
      "align_items": null,
      "align_self": null,
      "border": null,
      "bottom": null,
      "display": null,
      "flex": null,
      "flex_flow": null,
      "grid_area": null,
      "grid_auto_columns": null,
      "grid_auto_flow": null,
      "grid_auto_rows": null,
      "grid_column": null,
      "grid_gap": null,
      "grid_row": null,
      "grid_template_areas": null,
      "grid_template_columns": null,
      "grid_template_rows": null,
      "height": null,
      "justify_content": null,
      "justify_items": null,
      "left": null,
      "margin": null,
      "max_height": null,
      "max_width": null,
      "min_height": null,
      "min_width": null,
      "object_fit": null,
      "object_position": null,
      "order": null,
      "overflow": null,
      "overflow_x": null,
      "overflow_y": null,
      "padding": null,
      "right": null,
      "top": null,
      "visibility": null,
      "width": null
     }
    },
    "6547621b1def4fab9fd556f99b6f51d6": {
     "model_module": "@jupyter-widgets/base",
     "model_name": "LayoutModel",
     "state": {
      "_model_module": "@jupyter-widgets/base",
      "_model_module_version": "1.2.0",
      "_model_name": "LayoutModel",
      "_view_count": null,
      "_view_module": "@jupyter-widgets/base",
      "_view_module_version": "1.2.0",
      "_view_name": "LayoutView",
      "align_content": null,
      "align_items": null,
      "align_self": null,
      "border": null,
      "bottom": null,
      "display": null,
      "flex": null,
      "flex_flow": null,
      "grid_area": null,
      "grid_auto_columns": null,
      "grid_auto_flow": null,
      "grid_auto_rows": null,
      "grid_column": null,
      "grid_gap": null,
      "grid_row": null,
      "grid_template_areas": null,
      "grid_template_columns": null,
      "grid_template_rows": null,
      "height": null,
      "justify_content": null,
      "justify_items": null,
      "left": null,
      "margin": null,
      "max_height": null,
      "max_width": null,
      "min_height": null,
      "min_width": null,
      "object_fit": null,
      "object_position": null,
      "order": null,
      "overflow": null,
      "overflow_x": null,
      "overflow_y": null,
      "padding": null,
      "right": null,
      "top": null,
      "visibility": null,
      "width": null
     }
    },
    "6820ddb03b1344869994169b7f6423a8": {
     "model_module": "@jupyter-widgets/base",
     "model_name": "LayoutModel",
     "state": {
      "_model_module": "@jupyter-widgets/base",
      "_model_module_version": "1.2.0",
      "_model_name": "LayoutModel",
      "_view_count": null,
      "_view_module": "@jupyter-widgets/base",
      "_view_module_version": "1.2.0",
      "_view_name": "LayoutView",
      "align_content": null,
      "align_items": null,
      "align_self": null,
      "border": null,
      "bottom": null,
      "display": null,
      "flex": null,
      "flex_flow": null,
      "grid_area": null,
      "grid_auto_columns": null,
      "grid_auto_flow": null,
      "grid_auto_rows": null,
      "grid_column": null,
      "grid_gap": null,
      "grid_row": null,
      "grid_template_areas": null,
      "grid_template_columns": null,
      "grid_template_rows": null,
      "height": null,
      "justify_content": null,
      "justify_items": null,
      "left": null,
      "margin": null,
      "max_height": null,
      "max_width": null,
      "min_height": null,
      "min_width": null,
      "object_fit": null,
      "object_position": null,
      "order": null,
      "overflow": null,
      "overflow_x": null,
      "overflow_y": null,
      "padding": null,
      "right": null,
      "top": null,
      "visibility": null,
      "width": null
     }
    },
    "6bd57ec6ef0942c7a9376b0c2a1b72af": {
     "model_module": "@jupyter-widgets/controls",
     "model_name": "DropdownModel",
     "state": {
      "_dom_classes": [],
      "_model_module": "@jupyter-widgets/controls",
      "_model_module_version": "1.5.0",
      "_model_name": "DropdownModel",
      "_options_labels": [
       "Cases",
       "Hospitalized",
       "ICU",
       "Dead",
       "Recovered"
      ],
      "_view_count": null,
      "_view_module": "@jupyter-widgets/controls",
      "_view_module_version": "1.5.0",
      "_view_name": "DropdownView",
      "description": "column",
      "description_tooltip": null,
      "disabled": false,
      "index": 0,
      "layout": "IPY_MODEL_46d38fb7aba44020bbbe6747173c9b6e",
      "style": "IPY_MODEL_61f0ff17d7cc4aae90fb58222f721008"
     }
    },
    "6e5e6ed5f0a2420283d7075d4ae0a2a9": {
     "model_module": "@jupyter-widgets/base",
     "model_name": "LayoutModel",
     "state": {
      "_model_module": "@jupyter-widgets/base",
      "_model_module_version": "1.2.0",
      "_model_name": "LayoutModel",
      "_view_count": null,
      "_view_module": "@jupyter-widgets/base",
      "_view_module_version": "1.2.0",
      "_view_name": "LayoutView",
      "align_content": null,
      "align_items": null,
      "align_self": null,
      "border": null,
      "bottom": null,
      "display": null,
      "flex": null,
      "flex_flow": null,
      "grid_area": null,
      "grid_auto_columns": null,
      "grid_auto_flow": null,
      "grid_auto_rows": null,
      "grid_column": null,
      "grid_gap": null,
      "grid_row": null,
      "grid_template_areas": null,
      "grid_template_columns": null,
      "grid_template_rows": null,
      "height": null,
      "justify_content": null,
      "justify_items": null,
      "left": null,
      "margin": null,
      "max_height": null,
      "max_width": null,
      "min_height": null,
      "min_width": null,
      "object_fit": null,
      "object_position": null,
      "order": null,
      "overflow": null,
      "overflow_x": null,
      "overflow_y": null,
      "padding": null,
      "right": null,
      "top": null,
      "visibility": null,
      "width": null
     }
    },
    "70b163dbc057444da99e77ced1a80735": {
     "model_module": "@jupyter-widgets/controls",
     "model_name": "DropdownModel",
     "state": {
      "_dom_classes": [],
      "_model_module": "@jupyter-widgets/controls",
      "_model_module_version": "1.5.0",
      "_model_name": "DropdownModel",
      "_options_labels": [
       "Cases",
       "Hospitalized",
       "ICU",
       "Dead",
       "Recovered"
      ],
      "_view_count": null,
      "_view_module": "@jupyter-widgets/controls",
      "_view_module_version": "1.5.0",
      "_view_name": "DropdownView",
      "description": "column",
      "description_tooltip": null,
      "disabled": false,
      "index": 0,
      "layout": "IPY_MODEL_a5adb1fe642f41fb97749048f695176d",
      "style": "IPY_MODEL_1c835bb684da448b929dd539983394de"
     }
    },
    "74eda24dd0a344378178724e57b02e70": {
     "model_module": "@jupyter-widgets/controls",
     "model_name": "SliderStyleModel",
     "state": {
      "_model_module": "@jupyter-widgets/controls",
      "_model_module_version": "1.5.0",
      "_model_name": "SliderStyleModel",
      "_view_count": null,
      "_view_module": "@jupyter-widgets/base",
      "_view_module_version": "1.2.0",
      "_view_name": "StyleView",
      "description_width": "",
      "handle_color": null
     }
    },
    "7f152b5060ab401e868a3c50fc79001f": {
     "model_module": "@jupyter-widgets/output",
     "model_name": "OutputModel",
     "state": {
      "_dom_classes": [],
      "_model_module": "@jupyter-widgets/output",
      "_model_module_version": "1.0.0",
      "_model_name": "OutputModel",
      "_view_count": null,
      "_view_module": "@jupyter-widgets/output",
      "_view_module_version": "1.0.0",
      "_view_name": "OutputView",
      "layout": "IPY_MODEL_a5575abd95a84fd0a82709d41b8e84fd",
      "msg_id": "",
      "outputs": [
       {
        "metadata": {
         "tags": []
        },
        "output_type": "stream",
        "stream": "stdout",
        "text": "MSE: 567581585.3240426\nR^2: 0.7754046893426285\n"
       },
       {
        "image/png": "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\n",
        "metadata": {
         "needs_background": "light",
         "tags": []
        },
        "output_type": "display_data",
        "text/plain": "<Figure size 720x720 with 1 Axes>"
       }
      ]
     }
    },
    "8378a981ca414d37ad4ad84ea4787ec7": {
     "model_module": "@jupyter-widgets/base",
     "model_name": "LayoutModel",
     "state": {
      "_model_module": "@jupyter-widgets/base",
      "_model_module_version": "1.2.0",
      "_model_name": "LayoutModel",
      "_view_count": null,
      "_view_module": "@jupyter-widgets/base",
      "_view_module_version": "1.2.0",
      "_view_name": "LayoutView",
      "align_content": null,
      "align_items": null,
      "align_self": null,
      "border": null,
      "bottom": null,
      "display": null,
      "flex": null,
      "flex_flow": null,
      "grid_area": null,
      "grid_auto_columns": null,
      "grid_auto_flow": null,
      "grid_auto_rows": null,
      "grid_column": null,
      "grid_gap": null,
      "grid_row": null,
      "grid_template_areas": null,
      "grid_template_columns": null,
      "grid_template_rows": null,
      "height": null,
      "justify_content": null,
      "justify_items": null,
      "left": null,
      "margin": null,
      "max_height": null,
      "max_width": null,
      "min_height": null,
      "min_width": null,
      "object_fit": null,
      "object_position": null,
      "order": null,
      "overflow": null,
      "overflow_x": null,
      "overflow_y": null,
      "padding": null,
      "right": null,
      "top": null,
      "visibility": null,
      "width": null
     }
    },
    "839525aac3b94555adbe4b8ddda52e33": {
     "model_module": "@jupyter-widgets/controls",
     "model_name": "IntSliderModel",
     "state": {
      "_dom_classes": [],
      "_model_module": "@jupyter-widgets/controls",
      "_model_module_version": "1.5.0",
      "_model_name": "IntSliderModel",
      "_view_count": null,
      "_view_module": "@jupyter-widgets/controls",
      "_view_module_version": "1.5.0",
      "_view_name": "IntSliderView",
      "continuous_update": true,
      "description": "samples",
      "description_tooltip": null,
      "disabled": false,
      "layout": "IPY_MODEL_d2a892e584fd4330925f00c92739619a",
      "max": 62,
      "min": 1,
      "orientation": "horizontal",
      "readout": true,
      "readout_format": "d",
      "step": 1,
      "style": "IPY_MODEL_06433cd489184854afaf9856b615f547",
      "value": 1
     }
    },
    "86f65927f07c437d878e9018d9aa17d4": {
     "model_module": "@jupyter-widgets/base",
     "model_name": "LayoutModel",
     "state": {
      "_model_module": "@jupyter-widgets/base",
      "_model_module_version": "1.2.0",
      "_model_name": "LayoutModel",
      "_view_count": null,
      "_view_module": "@jupyter-widgets/base",
      "_view_module_version": "1.2.0",
      "_view_name": "LayoutView",
      "align_content": null,
      "align_items": null,
      "align_self": null,
      "border": null,
      "bottom": null,
      "display": null,
      "flex": null,
      "flex_flow": null,
      "grid_area": null,
      "grid_auto_columns": null,
      "grid_auto_flow": null,
      "grid_auto_rows": null,
      "grid_column": null,
      "grid_gap": null,
      "grid_row": null,
      "grid_template_areas": null,
      "grid_template_columns": null,
      "grid_template_rows": null,
      "height": null,
      "justify_content": null,
      "justify_items": null,
      "left": null,
      "margin": null,
      "max_height": null,
      "max_width": null,
      "min_height": null,
      "min_width": null,
      "object_fit": null,
      "object_position": null,
      "order": null,
      "overflow": null,
      "overflow_x": null,
      "overflow_y": null,
      "padding": null,
      "right": null,
      "top": null,
      "visibility": null,
      "width": null
     }
    },
    "883b0d5b99f54ad4825cd121c79ae4e9": {
     "model_module": "@jupyter-widgets/controls",
     "model_name": "DropdownModel",
     "state": {
      "_dom_classes": [],
      "_model_module": "@jupyter-widgets/controls",
      "_model_module_version": "1.5.0",
      "_model_name": "DropdownModel",
      "_options_labels": [
       "Cases",
       "Hospitalized",
       "ICU",
       "Dead",
       "Recovered"
      ],
      "_view_count": null,
      "_view_module": "@jupyter-widgets/controls",
      "_view_module_version": "1.5.0",
      "_view_name": "DropdownView",
      "description": "feature",
      "description_tooltip": null,
      "disabled": false,
      "index": 0,
      "layout": "IPY_MODEL_b8ce78eea657474b9edc8b76c3dee59f",
      "style": "IPY_MODEL_f93b665cecec4d9fbe98398f51321a68"
     }
    },
    "918388956f2942f7803aa3e911d99247": {
     "model_module": "@jupyter-widgets/controls",
     "model_name": "DescriptionStyleModel",
     "state": {
      "_model_module": "@jupyter-widgets/controls",
      "_model_module_version": "1.5.0",
      "_model_name": "DescriptionStyleModel",
      "_view_count": null,
      "_view_module": "@jupyter-widgets/base",
      "_view_module_version": "1.2.0",
      "_view_name": "StyleView",
      "description_width": ""
     }
    },
    "93b30b3332a54da0973d8137d1a521ca": {
     "model_module": "@jupyter-widgets/controls",
     "model_name": "VBoxModel",
     "state": {
      "_dom_classes": [
       "widget-interact"
      ],
      "_model_module": "@jupyter-widgets/controls",
      "_model_module_version": "1.5.0",
      "_model_name": "VBoxModel",
      "_view_count": null,
      "_view_module": "@jupyter-widgets/controls",
      "_view_module_version": "1.5.0",
      "_view_name": "VBoxView",
      "box_style": "",
      "children": [
       "IPY_MODEL_a49bedb75d8e41a5aa9e016a6e93a7e2",
       "IPY_MODEL_fa4f3c77fb7c475d874a3077d0f6cfac"
      ],
      "layout": "IPY_MODEL_0cc4a5a1c49742f6879f99aed636a71c"
     }
    },
    "94117847ac124316a0524c885604e6e8": {
     "model_module": "@jupyter-widgets/controls",
     "model_name": "IntSliderModel",
     "state": {
      "_dom_classes": [],
      "_model_module": "@jupyter-widgets/controls",
      "_model_module_version": "1.5.0",
      "_model_name": "IntSliderModel",
      "_view_count": null,
      "_view_module": "@jupyter-widgets/controls",
      "_view_module_version": "1.5.0",
      "_view_name": "IntSliderView",
      "continuous_update": true,
      "description": "features",
      "description_tooltip": null,
      "disabled": false,
      "layout": "IPY_MODEL_c55134608fdd40a39835e51e272daa74",
      "max": 6,
      "min": 1,
      "orientation": "horizontal",
      "readout": true,
      "readout_format": "d",
      "step": 1,
      "style": "IPY_MODEL_74eda24dd0a344378178724e57b02e70",
      "value": 1
     }
    },
    "97b680086ae74405a7a5b835c203c97a": {
     "model_module": "@jupyter-widgets/controls",
     "model_name": "VBoxModel",
     "state": {
      "_dom_classes": [
       "widget-interact"
      ],
      "_model_module": "@jupyter-widgets/controls",
      "_model_module_version": "1.5.0",
      "_model_name": "VBoxModel",
      "_view_count": null,
      "_view_module": "@jupyter-widgets/controls",
      "_view_module_version": "1.5.0",
      "_view_name": "VBoxView",
      "box_style": "",
      "children": [
       "IPY_MODEL_839525aac3b94555adbe4b8ddda52e33",
       "IPY_MODEL_94117847ac124316a0524c885604e6e8",
       "IPY_MODEL_619116d6d2a746369fcb3ae24e6e0812"
      ],
      "layout": "IPY_MODEL_c81022e9f4384cf3bb73713907e1f8e9"
     }
    },
    "a49bedb75d8e41a5aa9e016a6e93a7e2": {
     "model_module": "@jupyter-widgets/controls",
     "model_name": "DropdownModel",
     "state": {
      "_dom_classes": [],
      "_model_module": "@jupyter-widgets/controls",
      "_model_module_version": "1.5.0",
      "_model_name": "DropdownModel",
      "_options_labels": [
       "Cases",
       "Hospitalized",
       "ICU",
       "Dead",
       "Recovered"
      ],
      "_view_count": null,
      "_view_module": "@jupyter-widgets/controls",
      "_view_module_version": "1.5.0",
      "_view_name": "DropdownView",
      "description": "column",
      "description_tooltip": null,
      "disabled": false,
      "index": 0,
      "layout": "IPY_MODEL_d47c878d1d3a4389ab527d6ef719efd7",
      "style": "IPY_MODEL_3c763e1745aa4717ab82c4eabe24c0a0"
     }
    },
    "a5575abd95a84fd0a82709d41b8e84fd": {
     "model_module": "@jupyter-widgets/base",
     "model_name": "LayoutModel",
     "state": {
      "_model_module": "@jupyter-widgets/base",
      "_model_module_version": "1.2.0",
      "_model_name": "LayoutModel",
      "_view_count": null,
      "_view_module": "@jupyter-widgets/base",
      "_view_module_version": "1.2.0",
      "_view_name": "LayoutView",
      "align_content": null,
      "align_items": null,
      "align_self": null,
      "border": null,
      "bottom": null,
      "display": null,
      "flex": null,
      "flex_flow": null,
      "grid_area": null,
      "grid_auto_columns": null,
      "grid_auto_flow": null,
      "grid_auto_rows": null,
      "grid_column": null,
      "grid_gap": null,
      "grid_row": null,
      "grid_template_areas": null,
      "grid_template_columns": null,
      "grid_template_rows": null,
      "height": null,
      "justify_content": null,
      "justify_items": null,
      "left": null,
      "margin": null,
      "max_height": null,
      "max_width": null,
      "min_height": null,
      "min_width": null,
      "object_fit": null,
      "object_position": null,
      "order": null,
      "overflow": null,
      "overflow_x": null,
      "overflow_y": null,
      "padding": null,
      "right": null,
      "top": null,
      "visibility": null,
      "width": null
     }
    },
    "a5adb1fe642f41fb97749048f695176d": {
     "model_module": "@jupyter-widgets/base",
     "model_name": "LayoutModel",
     "state": {
      "_model_module": "@jupyter-widgets/base",
      "_model_module_version": "1.2.0",
      "_model_name": "LayoutModel",
      "_view_count": null,
      "_view_module": "@jupyter-widgets/base",
      "_view_module_version": "1.2.0",
      "_view_name": "LayoutView",
      "align_content": null,
      "align_items": null,
      "align_self": null,
      "border": null,
      "bottom": null,
      "display": null,
      "flex": null,
      "flex_flow": null,
      "grid_area": null,
      "grid_auto_columns": null,
      "grid_auto_flow": null,
      "grid_auto_rows": null,
      "grid_column": null,
      "grid_gap": null,
      "grid_row": null,
      "grid_template_areas": null,
      "grid_template_columns": null,
      "grid_template_rows": null,
      "height": null,
      "justify_content": null,
      "justify_items": null,
      "left": null,
      "margin": null,
      "max_height": null,
      "max_width": null,
      "min_height": null,
      "min_width": null,
      "object_fit": null,
      "object_position": null,
      "order": null,
      "overflow": null,
      "overflow_x": null,
      "overflow_y": null,
      "padding": null,
      "right": null,
      "top": null,
      "visibility": null,
      "width": null
     }
    },
    "a6036960bc6248c18b41c79f6fc02ff0": {
     "model_module": "@jupyter-widgets/output",
     "model_name": "OutputModel",
     "state": {
      "_dom_classes": [],
      "_model_module": "@jupyter-widgets/output",
      "_model_module_version": "1.0.0",
      "_model_name": "OutputModel",
      "_view_count": null,
      "_view_module": "@jupyter-widgets/output",
      "_view_module_version": "1.0.0",
      "_view_name": "OutputView",
      "layout": "IPY_MODEL_6e5e6ed5f0a2420283d7075d4ae0a2a9",
      "msg_id": "",
      "outputs": [
       {
        "metadata": {
         "tags": []
        },
        "output_type": "stream",
        "stream": "stdout",
        "text": "\n\nCases :\nPredicted Day 1: 160930\nPredicted Day 2: 161306\nPredicted Day 3: 161635\nPredicted Day 4: 161924\nPredicted Day 5: 162176\nPredicted Day 6: 162397\nPredicted Day 7: 162590\nPredicted Day 8: 162759\nPredicted Day 9: 162906\nPredicted Day 10: 163036\n\n\nMSE:  0.025737930695247425\nR2:  0.9898779986137936\n"
       },
       {
        "image/png": "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\n",
        "metadata": {
         "needs_background": "light",
         "tags": []
        },
        "output_type": "display_data",
        "text/plain": "<Figure size 720x720 with 1 Axes>"
       }
      ]
     }
    },
    "a6369d75a89a48f387b2339f9e227601": {
     "model_module": "@jupyter-widgets/base",
     "model_name": "LayoutModel",
     "state": {
      "_model_module": "@jupyter-widgets/base",
      "_model_module_version": "1.2.0",
      "_model_name": "LayoutModel",
      "_view_count": null,
      "_view_module": "@jupyter-widgets/base",
      "_view_module_version": "1.2.0",
      "_view_name": "LayoutView",
      "align_content": null,
      "align_items": null,
      "align_self": null,
      "border": null,
      "bottom": null,
      "display": null,
      "flex": null,
      "flex_flow": null,
      "grid_area": null,
      "grid_auto_columns": null,
      "grid_auto_flow": null,
      "grid_auto_rows": null,
      "grid_column": null,
      "grid_gap": null,
      "grid_row": null,
      "grid_template_areas": null,
      "grid_template_columns": null,
      "grid_template_rows": null,
      "height": null,
      "justify_content": null,
      "justify_items": null,
      "left": null,
      "margin": null,
      "max_height": null,
      "max_width": null,
      "min_height": null,
      "min_width": null,
      "object_fit": null,
      "object_position": null,
      "order": null,
      "overflow": null,
      "overflow_x": null,
      "overflow_y": null,
      "padding": null,
      "right": null,
      "top": null,
      "visibility": null,
      "width": null
     }
    },
    "b15104101dd6492c80605447da90311e": {
     "model_module": "@jupyter-widgets/output",
     "model_name": "OutputModel",
     "state": {
      "_dom_classes": [],
      "_model_module": "@jupyter-widgets/output",
      "_model_module_version": "1.0.0",
      "_model_name": "OutputModel",
      "_view_count": null,
      "_view_module": "@jupyter-widgets/output",
      "_view_module_version": "1.0.0",
      "_view_name": "OutputView",
      "layout": "IPY_MODEL_6547621b1def4fab9fd556f99b6f51d6",
      "msg_id": "",
      "outputs": [
       {
        "image/png": "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\n",
        "metadata": {
         "needs_background": "light",
         "tags": []
        },
        "output_type": "display_data",
        "text/plain": "<Figure size 1080x1080 with 1 Axes>"
       }
      ]
     }
    },
    "b494259ebce5486bbc87b60052a59df4": {
     "model_module": "@jupyter-widgets/base",
     "model_name": "LayoutModel",
     "state": {
      "_model_module": "@jupyter-widgets/base",
      "_model_module_version": "1.2.0",
      "_model_name": "LayoutModel",
      "_view_count": null,
      "_view_module": "@jupyter-widgets/base",
      "_view_module_version": "1.2.0",
      "_view_name": "LayoutView",
      "align_content": null,
      "align_items": null,
      "align_self": null,
      "border": null,
      "bottom": null,
      "display": null,
      "flex": null,
      "flex_flow": null,
      "grid_area": null,
      "grid_auto_columns": null,
      "grid_auto_flow": null,
      "grid_auto_rows": null,
      "grid_column": null,
      "grid_gap": null,
      "grid_row": null,
      "grid_template_areas": null,
      "grid_template_columns": null,
      "grid_template_rows": null,
      "height": null,
      "justify_content": null,
      "justify_items": null,
      "left": null,
      "margin": null,
      "max_height": null,
      "max_width": null,
      "min_height": null,
      "min_width": null,
      "object_fit": null,
      "object_position": null,
      "order": null,
      "overflow": null,
      "overflow_x": null,
      "overflow_y": null,
      "padding": null,
      "right": null,
      "top": null,
      "visibility": null,
      "width": null
     }
    },
    "b8ce78eea657474b9edc8b76c3dee59f": {
     "model_module": "@jupyter-widgets/base",
     "model_name": "LayoutModel",
     "state": {
      "_model_module": "@jupyter-widgets/base",
      "_model_module_version": "1.2.0",
      "_model_name": "LayoutModel",
      "_view_count": null,
      "_view_module": "@jupyter-widgets/base",
      "_view_module_version": "1.2.0",
      "_view_name": "LayoutView",
      "align_content": null,
      "align_items": null,
      "align_self": null,
      "border": null,
      "bottom": null,
      "display": null,
      "flex": null,
      "flex_flow": null,
      "grid_area": null,
      "grid_auto_columns": null,
      "grid_auto_flow": null,
      "grid_auto_rows": null,
      "grid_column": null,
      "grid_gap": null,
      "grid_row": null,
      "grid_template_areas": null,
      "grid_template_columns": null,
      "grid_template_rows": null,
      "height": null,
      "justify_content": null,
      "justify_items": null,
      "left": null,
      "margin": null,
      "max_height": null,
      "max_width": null,
      "min_height": null,
      "min_width": null,
      "object_fit": null,
      "object_position": null,
      "order": null,
      "overflow": null,
      "overflow_x": null,
      "overflow_y": null,
      "padding": null,
      "right": null,
      "top": null,
      "visibility": null,
      "width": null
     }
    },
    "c55134608fdd40a39835e51e272daa74": {
     "model_module": "@jupyter-widgets/base",
     "model_name": "LayoutModel",
     "state": {
      "_model_module": "@jupyter-widgets/base",
      "_model_module_version": "1.2.0",
      "_model_name": "LayoutModel",
      "_view_count": null,
      "_view_module": "@jupyter-widgets/base",
      "_view_module_version": "1.2.0",
      "_view_name": "LayoutView",
      "align_content": null,
      "align_items": null,
      "align_self": null,
      "border": null,
      "bottom": null,
      "display": null,
      "flex": null,
      "flex_flow": null,
      "grid_area": null,
      "grid_auto_columns": null,
      "grid_auto_flow": null,
      "grid_auto_rows": null,
      "grid_column": null,
      "grid_gap": null,
      "grid_row": null,
      "grid_template_areas": null,
      "grid_template_columns": null,
      "grid_template_rows": null,
      "height": null,
      "justify_content": null,
      "justify_items": null,
      "left": null,
      "margin": null,
      "max_height": null,
      "max_width": null,
      "min_height": null,
      "min_width": null,
      "object_fit": null,
      "object_position": null,
      "order": null,
      "overflow": null,
      "overflow_x": null,
      "overflow_y": null,
      "padding": null,
      "right": null,
      "top": null,
      "visibility": null,
      "width": null
     }
    },
    "c81022e9f4384cf3bb73713907e1f8e9": {
     "model_module": "@jupyter-widgets/base",
     "model_name": "LayoutModel",
     "state": {
      "_model_module": "@jupyter-widgets/base",
      "_model_module_version": "1.2.0",
      "_model_name": "LayoutModel",
      "_view_count": null,
      "_view_module": "@jupyter-widgets/base",
      "_view_module_version": "1.2.0",
      "_view_name": "LayoutView",
      "align_content": null,
      "align_items": null,
      "align_self": null,
      "border": null,
      "bottom": null,
      "display": null,
      "flex": null,
      "flex_flow": null,
      "grid_area": null,
      "grid_auto_columns": null,
      "grid_auto_flow": null,
      "grid_auto_rows": null,
      "grid_column": null,
      "grid_gap": null,
      "grid_row": null,
      "grid_template_areas": null,
      "grid_template_columns": null,
      "grid_template_rows": null,
      "height": null,
      "justify_content": null,
      "justify_items": null,
      "left": null,
      "margin": null,
      "max_height": null,
      "max_width": null,
      "min_height": null,
      "min_width": null,
      "object_fit": null,
      "object_position": null,
      "order": null,
      "overflow": null,
      "overflow_x": null,
      "overflow_y": null,
      "padding": null,
      "right": null,
      "top": null,
      "visibility": null,
      "width": null
     }
    },
    "d0a59b357a48466c8c378175426ed39a": {
     "model_module": "@jupyter-widgets/base",
     "model_name": "LayoutModel",
     "state": {
      "_model_module": "@jupyter-widgets/base",
      "_model_module_version": "1.2.0",
      "_model_name": "LayoutModel",
      "_view_count": null,
      "_view_module": "@jupyter-widgets/base",
      "_view_module_version": "1.2.0",
      "_view_name": "LayoutView",
      "align_content": null,
      "align_items": null,
      "align_self": null,
      "border": null,
      "bottom": null,
      "display": null,
      "flex": null,
      "flex_flow": null,
      "grid_area": null,
      "grid_auto_columns": null,
      "grid_auto_flow": null,
      "grid_auto_rows": null,
      "grid_column": null,
      "grid_gap": null,
      "grid_row": null,
      "grid_template_areas": null,
      "grid_template_columns": null,
      "grid_template_rows": null,
      "height": null,
      "justify_content": null,
      "justify_items": null,
      "left": null,
      "margin": null,
      "max_height": null,
      "max_width": null,
      "min_height": null,
      "min_width": null,
      "object_fit": null,
      "object_position": null,
      "order": null,
      "overflow": null,
      "overflow_x": null,
      "overflow_y": null,
      "padding": null,
      "right": null,
      "top": null,
      "visibility": null,
      "width": null
     }
    },
    "d0c55367fff34869bef2404b0b12cfc7": {
     "model_module": "@jupyter-widgets/controls",
     "model_name": "DropdownModel",
     "state": {
      "_dom_classes": [],
      "_model_module": "@jupyter-widgets/controls",
      "_model_module_version": "1.5.0",
      "_model_name": "DropdownModel",
      "_options_labels": [
       "Cases",
       "Hospitalized",
       "ICU",
       "Dead",
       "Recovered"
      ],
      "_view_count": null,
      "_view_module": "@jupyter-widgets/controls",
      "_view_module_version": "1.5.0",
      "_view_name": "DropdownView",
      "description": "column",
      "description_tooltip": null,
      "disabled": false,
      "index": 0,
      "layout": "IPY_MODEL_86f65927f07c437d878e9018d9aa17d4",
      "style": "IPY_MODEL_42b6e79730f24d978be9539c2b70eaa6"
     }
    },
    "d2a892e584fd4330925f00c92739619a": {
     "model_module": "@jupyter-widgets/base",
     "model_name": "LayoutModel",
     "state": {
      "_model_module": "@jupyter-widgets/base",
      "_model_module_version": "1.2.0",
      "_model_name": "LayoutModel",
      "_view_count": null,
      "_view_module": "@jupyter-widgets/base",
      "_view_module_version": "1.2.0",
      "_view_name": "LayoutView",
      "align_content": null,
      "align_items": null,
      "align_self": null,
      "border": null,
      "bottom": null,
      "display": null,
      "flex": null,
      "flex_flow": null,
      "grid_area": null,
      "grid_auto_columns": null,
      "grid_auto_flow": null,
      "grid_auto_rows": null,
      "grid_column": null,
      "grid_gap": null,
      "grid_row": null,
      "grid_template_areas": null,
      "grid_template_columns": null,
      "grid_template_rows": null,
      "height": null,
      "justify_content": null,
      "justify_items": null,
      "left": null,
      "margin": null,
      "max_height": null,
      "max_width": null,
      "min_height": null,
      "min_width": null,
      "object_fit": null,
      "object_position": null,
      "order": null,
      "overflow": null,
      "overflow_x": null,
      "overflow_y": null,
      "padding": null,
      "right": null,
      "top": null,
      "visibility": null,
      "width": null
     }
    },
    "d3abf82d7f944ea3862317863575a03f": {
     "model_module": "@jupyter-widgets/output",
     "model_name": "OutputModel",
     "state": {
      "_dom_classes": [],
      "_model_module": "@jupyter-widgets/output",
      "_model_module_version": "1.0.0",
      "_model_name": "OutputModel",
      "_view_count": null,
      "_view_module": "@jupyter-widgets/output",
      "_view_module_version": "1.0.0",
      "_view_name": "OutputView",
      "layout": "IPY_MODEL_4a48e8fdfa2f4c89a2768d2373b5e395",
      "msg_id": "",
      "outputs": [
       {
        "metadata": {
         "tags": []
        },
        "output_type": "stream",
        "stream": "stdout",
        "text": "\n\nCases :\nPredicted Day 1: 212725\nPredicted Day 2: 217101\nPredicted Day 3: 221563\nPredicted Day 4: 226114\nPredicted Day 5: 230758\nPredicted Day 6: 235495\nPredicted Day 7: 240330\nPredicted Day 8: 245263\nPredicted Day 9: 250297\nPredicted Day 10: 255434\n\n\nMSE: 0.0010342966554338097\nR^2: 0.9995906841096924\n"
       },
       {
        "image/png": "iVBORw0KGgoAAAANSUhEUgAAAlcAAAJNCAYAAAAcdlB5AAAABHNCSVQICAgIfAhkiAAAAAlwSFlzAAALEgAACxIB0t1+/AAAADh0RVh0U29mdHdhcmUAbWF0cGxvdGxpYiB2ZXJzaW9uMy4yLjIsIGh0dHA6Ly9tYXRwbG90bGliLm9yZy+WH4yJAAAgAElEQVR4nOzdd3yV9dnH8c+dMEIAiwNckAQcKDjQJ1gnziJV694BByruPapNratY66i7IlYcGNwDq6g4UKw7LhSQIeYEqBVERPEwk/v544S9Qsw59xmf9+vF65D7rAva5+Hb6/e7r18QhiGSJElqHHlRFyBJkpRNDFeSJEmNyHAlSZLUiAxXkiRJjchwJUmS1IgMV5IkSY2oSdQFLG2DDTYIS0pKoi5DkiRpjT7++OPvwzBsu/z1tApXJSUlVFZWRl2GJEnSGgVBEFvZdZcFJUmSGpHhSpIkqREZriRJkhpRWu25WpkFCxYwZcoU5s6dG3UpGa2goID27dvTtGnTqEuRJCmrpX24mjJlCq1bt6akpIQgCKIuJyOFYciMGTOYMmUKHTt2jLocSZKyWtovC86dO5f111/fYPUrBEHA+uuvb/dPkqQUSPtwBRisGoF/h5IkpUZGhKuo5efn061bN7bZZhuOOuoo4vF4gz/rpJNO4qmnngLg1FNPZcyYMat87Ztvvsm777671t9RUlLC999/3+AaJUlSwxmu6qFFixZ89tlnfPnllzRr1owBAwYs8/zChQsb9Ln/+te/6NKlyyqfb2i4kiRJ0TFcraU99tiDiRMn8uabb7LHHntw8MEH06VLF2pqarj00kvp3r072223Hffeey+Q2Ex+zjnn0LlzZ/bbbz+mTZu2+LP22muvxRPpX375ZXbccUe233579t13X6qqqhgwYAC33nor3bp14+2332b69OkcccQRdO/ene7du/POO+8AMGPGDHr27EnXrl059dRTCcMw9X8xkiQJyIC7BdPJwoULeemll+jVqxcAn3zyCV9++SUdO3Zk4MCB/OY3v+Gjjz5i3rx57LbbbvTs2ZNPP/2UcePGMWbMGL777ju6dOlC3759l/nc6dOnc9pppzFy5Eg6duzIDz/8wHrrrccZZ5xBq1atuOSSSwA4/vjjufDCC9l9992prq5m//33Z+zYsVxzzTXsvvvu/OUvf+HFF1/k/vvvT/nfjSRJSsiocHXBBfDZZ437md26wW23rf41c+bMoVu3bkCic3XKKafw7rvvstNOOy0ebTB8+HBGjRq1eD/VrFmzmDBhAiNHjuS4444jPz+fTTbZhH322WeFz3///ffp0aPH4s9ab731VlrHa6+9tswerZ9++onZs2czcuRInnnmGQAOPPBA1l133bX7S5AkSY0mo8JVVBbtuVpey5YtF/8+DEPuvPNO9t9//2VeM2zYsEaro7a2lvfff5+CgoJG+0xJktS4MipcranDFKX999+fe+65h3322YemTZsyfvx4Nt10U3r06MG9997LiSeeyLRp0xgxYgTHH3/8Mu/deeedOeuss/jmm2+WWRZs3bo1P/300+LX9ezZkzvvvJNLL70UgM8++4xu3brRo0cPhgwZwp///GdeeuklZs6cmdI/uyRJWsIN7Y3k1FNPpUuXLuy4445ss802nH766SxcuJDDDjuMLbbYgi5dunDCCSewyy67rPDetm3bMnDgQA4//HC23357jjnmGAD+8Ic/8Oyzzy7e0H7HHXdQWVnJdtttR5cuXRbftXjVVVcxcuRIunbtyjPPPENRUVFK/+ySJGmJIJ3uLCstLQ0X3T23yNixY9l6660jqii7+HcpSVLjCYLg4zAMS5e/budKkiSpERmuJEmSGpHhSpIkqREZriRJkhqR4UqSJKkRGa4kSVJWmTcv2u/PqCGiUcnPz2fbbbdlwYIFNGnShBNOOIELL7yQvLxVZ9OqqirefffdFQaGSpKkhgtDmD4dYjGorl7ya+mfFyyAKOdpG67qYenjb6ZNm8bxxx/PTz/9xDXXXLPK91RVVTFkyBDDlSRJa2HePJgyZdmwtOj3sRhMngxz5y77npYtobgYioqgtDTxWFsLq+mBJJXhai21a9eOgQMH0r17d66++mpisRh9+vThl19+AeCuu+5i11135fLLL2fs2LF069aNE088kcMOO2ylr5MkKVeEYaKjtHynaenw9L//rfi+jTdOBKYddoBDDkn8vqhoSaBad10IgtT/eVYl+8JVRQWUlyf+Uyoqgv79oaysUb+iU6dO1NTUMG3aNNq1a8err75KQUEBEyZM4LjjjqOyspIbbriBm2++mRdeeAGAeDy+0tdJkpQtFiyA//539Ut2s2cv+56CgiVh6cADVwxO7dtD8+bR/HkaKrvCVUUF9OsH8Xji51gs8TM0esBaZMGCBZxzzjl89tln5OfnM378+F/1OkmS0tWsWSsPTIt+/9//JpbjlrbBBomg1Lkz9Oy5Ynhq2za9uk6NIbvCVXn5kmC1SDyeuN6I4WrSpEnk5+fTrl07rrnmGjbccEM+//xzamtrKSgoWOl7br311nq9TpKkKNTUwLffrj48zZq17HuaNoUOHRK/9tlnSWBaFJ46dIDCwmj+PFHKrnBVXb121xtg+vTpnHHGGZxzzjkEQcCsWbNo3749eXl5PPTQQ9TU1ADQunVrfv7558XvW9XrJElaKw3c/hKPr3yP06LHKVNg4cJl39OmTSIklZRAjx5LwtOixw03hPz85PwxM1l2hauiosR/Q1Z2/VeYM2cO3bp1WzyKoU+fPlx00UUAnHXWWRxxxBE8/PDD9OrVi5YtWwKw3XbbkZ+fz/bbb89JJ520ytdJkrSCVQWoVWx/CUOY3rNspcFp0e+//37Zr8jLg003TQSlXXddtuO0qOu0zjqp/6NngyAMw6hrWKy0tDRcfpP32LFj2Xrrrev3Acv/lw4S/ciBA5O25yqTrNXfpSQpeVbXfVrJv2XzW/yGKf0fovrvjxL7rjnVFBGjeMljUMzccNntJovGEyy/VLfocZNNoEl2tVhSLgiCj8MwLF3+enb9tS76L2aS7xaUJGmN1qL79NNpFxOb3IbYNgdSfd5YYvG/LBOevp2zMeFFecAhiz9+I76lmBjb8zkHh/+m6I5LlglPbdpk30bxTJFdnSutln+XktTI6hGgQuAH1iNWsBVVp/+NqoffIjZzHaooIUYxMYr5kXWX+dhmzKMDk+uejVFEdSJqtZtL8bQP6cBkmjN/yRuKi6GqKqV/dOVK50qSpMZWjwA1hwKqYi2YdMrTTBq+Jd88O4dJ8Qom0Ylv6MhsWsNc4HaAHrTiZzryDcXE2J3/1AWoyRS/9xjFR3Znw6kfk8dyzY/i4sR39xsK8aWCVWFh4rrSRkaEqzAMCext/irp1KGUpLRTjwD1E635OrYuE/u+xMTnuzLxxSZMjA9jIpvzXzZNfM484GEopAudmERHvmFvRlBCVd2vGMXta1h3yihW+FetuBh2Bv5+wcr3Dy+9zcXtL2kt7cNVQUEBM2bMYP311zdgNVAYhsyYMcPZWpJyWz0C1HyaMilWwLi+Qxn/wtaMfyGPcfGXGM+WfMdGic+ZDzwBG7EhmzORngxnM76mE5PqAlUV7YoKCKpXcvf64u7TKsITrDlAlZUZptJc2u+5WrBgAVOmTGHu8qc0aq0UFBTQvn17mjZtGnUpkpQ89dwD9S0bM6759ow//mrGPfUF437emHF05hs6UsuSwU3t+I4tGU9nxrE5E9mCCWzORDZjEq2K11/5+J/VBahFd6+n4Kg2Jd+q9lylfbiSJGmxeo4wCIFptGNi822YcOJfmfhYJRN/assEtmACW/AzSwY4tSC+OEAteuzMOLZgIm2Kf2OA0ioZriRJmaGeIwzm05Tqgs5MOv82JpXsy6Q/DmDSTxvwNZsxkc0Tm8jr5LOQEqrYnInLBKjOjGfTonzyqqtWrMMApTUwXEmS0kc9A9QPrMuk5l2YdNrf+PqR95j047p1O5s6UU3RMkt4zZhHR76hE5PYnIlLLeN9TUlRLU2rv16xDgOUfgXDlSQpteoZoGbShgnNt2VC378xfkglE2Yllu8msvkK85/a8d3iu/A24+u6jeTf0GnyW2yyW0c7UEopw5UkqfHVM0CFwHctOjLmgoGMHvA2o2duzGi68hVb8T1tF39cQC3FxNiS8XUbxxN34W3GJDp2WEiryWNXrGHRAM01HYFmgFIjM1xJkhrXKsLMvLv/xegrHuHT/23Ep+zAKLZjNF35gfUXv6wNM+nKaLZmbN3m8QlsyQQ6FS2kefWEFb+rPt2nRTUZoJQihitJUsOsKrCUlDAn9h2fsgMf8398yg58yg6MpisLaAZAa35iW76gK6Prfo2h66Y/stHUypUP0XT5ThnE428kSWtvqe5ULQHjYwV80PctPnigOx/EnmYU27GQxPy8tkxjRz6hF6+wwwaT2eH7xHDNZY5xWdMQTQdoKgvYuZIkrbQj9OOBZXzQ+QTenbYZ77ELH7ITs2gDQOvgZ3Zq/jk7zR3Jb/mAUirZhP8mulF2oJQjXBaUpFy2huGb4Wn9GD+nPe+xC++yK+8GuzOGrQnDgDxq2JYv2Jn3+S0f8Fs+YCvGkffIwwYo5TSXBSUpVy2/8TwWY85p51H5VVvebdWTd65px7tzYsxgAyCx2XyX8D2O/c0wdmn+CTtN+zetmb3sZxYXu4QnrYKdK0nKFqvZeD4j9jP/YXdG0oN32I1P2HHxpvPOfMWuiX4Vu/EOnRmX2CcVBDB48Jrv0JNylJ0rScpmy3Wnvo3N4+2+LzPyoVLeiv2bL9kWgObMpTsfcSG3shvvsuv0oWxQ2mvl5+cVFa25OyVpBXauJCmTrKI7NatoW0ZM3ozh9OQ19mMCWwLQKpjNbs0/psfcV+jBSLrzEc2Zn/is+g7flLRSdq4kKdMtFYJqyKMytiHDT/6a4ddO473Jn1JDE1rxM3vxJqdzLz0YyQ7hZzT514PQ7/aVjz4Au1NSI7NzJUnpZhXdqTlFnRk+eSue4khe5EBmsh4Btfxfsy/oWfA2+//0BDvzPs1YsOSzlu5OGZ6kRmXnSpIywXJLdPHYNF7q+yJP3bUbL0yuZDatWY8Z/IF/04uX2Y/XaLtgBgwaDP0+hvhSwWr57pRhSkoJw5UkpZPycubHF/Aih/Iox/EiBxKf35INPpzBca3+zZGzH2RvRtCUhUveU1SPsQiSUiYv6gIkKSdVVEBJCeTlJR4rKhgzBi6OnUd7pnA4z/IWe3ICD/Ma+/Jt7UYMHBDSs/CdZYPV8t2pqiqorU08GqykSNi5kqRUW2rp72da8XhsP+4/YXPer4UmnMvBPE9fBrE/r9CEmsR76jO0U1JacEO7JKVaSQlfxFpzO+fzGMfyC63YmjGcsu4z9PnrVrS79ETHIkgZYFUb2pO6LBgEQVUQBF8EQfBZEASmJkm5Zbmlv9rBFbz4IuwX+xfb8QWPchzH8SjvsTOj6crFP/6FdmcdmQhSxcWJCenFxQYrKcOkYllw7zAMv0/B90hS+lhq6e8XCnkodgC3n9id8SFsmt+VG2r+yGncx3rMXPKeoqLEo3f2SRnNDe2SlAzl5XwXb8UVXE8HJnM2/+Q34Y8M2eA8vrl/BH8svGvZYLX0xnRJGS3Z4SoEhgdB8HEQBP2S/F2SlHoruetvyhQ4P3YRJVRxI5exL6/zDrvyAb/luBl30fTE4136k7JYspcFdw/DcGoQBO2AV4Mg+CoMw5FLv6AudPUDKFrUEpekTLDcwM9JsTz+ftJcHghrCDmTE3iYy7mBLZi45D0u/UlZL6mdqzAMp9Y9TgOeBXZayWsGhmFYGoZhadu2bZNZjiQ1rvJyiMf5is6cyINsyXgeXNib01pUMPG2F7m/8Lxlg5VLf1JOSFq4CoKgZRAErRf9HugJfJms75OkVPsq1oIyHqELY3iSoziPO/iGjtz9y0kUn3+oS39SjkrmsuCGwLNBECz6niFhGL6cxO+TpJT46iu47jp4lNEUEucybuRibqEtdTdGFxUnHl36k3JS0sJVGIaTgO2T9fmSlBIVFYsnoo/beC+uK7mfR9/vSIsWcNlBY7n49QNoO6d6yetd+pNynqMYJGlV6jasT4g1pXf4MF3++yrPvtuOSw4YzTffwA3/7krb+6536U/SMjz+RpJWYWr733Lt1L7czyk0Yz7ncBeXcDPtigsTByNLymmRHH8jSRlhuVlVMwY8yWWXweZT3+QBTuYMBjCJTtzIH2nH9MShyZK0Cqk4/kaS0tdSs6pm05LbYr256cye/ByE9G45jGt+uYSOVC37HmfySVoNO1eSclt5OTXxuQzgdDbja67kr+zNCEZttD8P3zuXjoXTln29G9YlrYHhSlJuWMkxNQAjYp3YkU84kwF0ZhzvsTPPcRjb/O+1xMZ0Z1VJWktuaJeU/ZY7pgZgUkEXLt32JZ75qIhiqriZSziCpwkWvaC42E3rklbLDe2SclfdMTUAP9OKP9Gfred+wiuV6/PXoz5jbIv/48ilg5VLf5J+BcOVpOxXXU0IPMYxbMl4/safOIbHGRd2pvyJbrS47w6X/iQ1Gu8WlJT1vtt0R86c8iee5XC68yHPcSi/5cNEkAKPqZHUqOxcScoey21aDx+p4PHHoeuP/2EYB3Ajl/IeuySClUt/kpLEcCUpOyzatB6LQRgyLRbnqJMKOfZY2KxLAZ/+/VUuLX6S/CB06U9SUnm3oKTsUFKSCFbAkxzJWfyTn1iHa9vcysXTL6eJmyAkNTLvFpSU3aqridOCPjzM0TxJCVV8wo78cdafDFaSUspwJSkrVG2yK7vxDhWUcS1X8h670JUxHlUjKeX833OSMt4bb8DRs16jhjkM4wB68UriCTetS4qAnStJmWWpOwLD4hJu71NJz56wYVEBH978Nr2Kv3JelaRI2bmSlDmWOsZmDgWcUX0NDz9SyqH/N5mHR3SgdeuD4eKDo65SUo6zcyUpc9QdYzOZ9vRgJA9zItdyJU9P70Hr1lEXJ0kJdq4kZY7qakaxLfvzCr/QkqEczMH8GyYHa36vJKWInStJGeOddoexJ2+RTw3vs3MiWIF3BEpKK4YrSRnhpZfgdzMfp10wnXfYjS6MTTzhHYGS0ozhSlLae/RROPhg2KprE96+axTFxYF3BEpKW4YrSelnqXEL96z/Z8rKQnbdFUaMgHZnHQlVVVBbm3g0WElKM4YrSemlbtxCGItxXVjOWT/8lYPyhvHySY/xm99EXZwkrZnhSlJ6KS8njMe5iH/wF66jDw/zdM2htLjm8qgrk6R6MVxJSiu1scmcxT+5jQs5j9t5kJNoykKoro66NEmqF8OVpLRRWwtntBrMAM7kj9zAbVxAHmHiScctSMoQhitJaaGmBk49Fe6bfTzlTf7O37iCxaNBHbcgKYMYriRFrqYG+vaFBx6Aq66C6x5oT1Bc7LgFSRnJ428kRaOiAsrLWRibyomFTzIkfijXXgtXXglQBr0NU5Iyk+FKUurVjVtYGJ9Hbx7h8fihXN/0Kq7otCVgqJKU2VwWlJR65eUsiM/neIbwOMfydy7jigXXQnl51JVJ0q9m50pSys2L/Y9jeJKhHMotXMRF3Jp4wnELkrKA4UpSSsXjcHjBK7wyd0/u4mzO5p9LnnTcgqQsYLiSlDKzZ8Mf/gBvzevB/c3OpO/8AUuedNyCpCzhnitJKTFrFvTsCW+/DRUVAX0H7Z4Ys+C4BUlZxs6VpKSbMQP23x9GjYInnoDDDwcoM0xJykp2riQlR0UFlJQwLdiQvTcey5ejanjuuUXBSpKyl+FKUuOrm2M1NbaAPXmTrxcU8WLewRwwsyLqyiQp6QxXkhpfeTnfxNuxB28zlU15mV7sO2+Yc6wk5QT3XElqdONiBezLa8Qp5HX2pTuViSecYyUpBxiuJDWqUaPgd3lvQ20tb7IX2/HFkiedYyUpB7gsKKnRfPgh7LUXNGtTyMiC/ZcNVs6xkpQjDFeSGq7ujkDy8hi50dHst+cC1l0X3v64JZ3/dalzrCTlJJcFJTVM3R2BxOO8Qk8O++5BioOvee2CMWxacjiUOMdKUm6ycyWpYcrLIR5nKAdzMM/TmXG8FfZg01suiroySYqUnStJDVNdzZMcyfEMYUc+4WV6sS4/QnUQdWWSFCk7V5IapGK9czmWx9iZ93mV3yWCFXhHoKScZ7iStNYGDYI+P9zGnnn/4SV+zzr8nHjCOwIlyXAlaQ2WuiOQkhIG9P2QU06B3/0u4IX7vqVV8QbeEShJS3HPlaRVW+qOQIDbY4dwwQM7cdAOU3hyaHsKCo6FvsdGXKQkpRc7V5JWre6OQIAbuZQLuJ3DeZqnZ+xNQUHEtUlSmrJzJWnV6s4CvJ4rKOd6juVRHuYEmk6uibgwSUpfdq4krVpRETdxCeVcT28G8wi9acpC7wiUpNWwcyVplW7f4ykui5VyDI/xACeTT613BErSGti5krRSAwbABY+UclhpNYOL/kyToNY7AiWpHuxcSVrBoEFw5plw0EHw2NNFNG02MeqSJClj2LmStIxHHoFTT4X994cnn4RmzaKuSJIyi+FK0uJBoY8Hx3Jinxr23vp/PPssjluQpAYwXEm5rm5Q6HOxbpTxCLvxDs9/sy0tnqmIujJJykiGKynXlZfzdnxHjuUxSqnkRQ6k5ZzvEwNEJUlrzXAl5bgxsZYczPOUUMWLHEhrZieeqBsgKklaO4YrKYdNnQq98odTwFxephfr88OSJx0UKkkN4igGKUfNmgUHHAAzm7ZjZNM9KZkbW/Kkg0IlqcHsXEm5ou6OQPLymF+8BYfv+j/GjIFnnm/KDv86OzEgNAgcFCpJv5KdKykX1N0RSDxOLQEnV1/NG2zEQ6e/y+9+tytQZpiSpEZi50rKBeXlEI8DcAV/YwhlXM8VnPDy8REXJknZx86VlAvq7vy7i7O5kT9yJv/kcm6A6iDiwiQp+9i5knJBURHPcQjncQeH8Bx3ci5B3XVJUuMyXEk54IOTB3Acj7ITHzKE48mn1jsCJSlJDFdSlvv6a/jD3b3YpN1Cnm9/NoXBXO8IlKQkcs+VlMVmzEjMsqqpgZfea027LT+OuiRJynqGKylLzZ0LhxwCsRi89hpsuWXUFUlSbjBcSVmothZOPBHeeQcefxx23z3qiiQpd7jnSsomdVPYL8+/iSeegBuP/YSjj466KEnKLYYrKVvUTWG/J/Z7buJSzuJuLhm6R+K6JCllgjAMo65hsdLS0rCysjLqMqTMVFLCi7GuHMzzHMAwnuUwmlCTuDOwqirq6iQp6wRB8HEYhqXLX7dzJWWJT2LrcwyP043PeJTjEsEKFk9nlySlhuFKygLV1XBg/kuszwxe4CBa8cuSJ53CLkkp5d2CUoabNSsxyyrerA2vhQew8dz/LXnSKeySlHJ2rqQMNn8+HHEEjBsHz/y7GV3/dWFij1UQOIVdkiJi50rKUGEIZ5wBr78ODzwA++4LUGaYkqSI2bmSMk3dLKv+eVfywAPwl8NGcdJJURclSVrEcCVlkrpZVo/EdudKrqMPD3P1y7s4y0qS0ohzrqRMUlLCyFgR+/Eau/MfXqYXzVjgLCtJioBzrqQsMDHWlMN4lk5M4mmOSAQrcJaVJKWRpIerIAjygyD4NAiCF5L9XVI2mzkTDmryMgEhL3Ig6/LjkiedZSVJaSMVdwueD4wF1knBd0lZacECOPJImBSW8Frz37PZvElLnnSWlSSllaR2roIgaA8cCPwrmd8jZbMwhLPPhjfegH8NyqfH/Sc6y0qS0liyO1e3AZcBrZP8PVLW+sc/4L774E9/ghNOAGdZSVJ6S1rnKgiCg4BpYRh+vIbX9QuCoDIIgsrp06cnqxwpc9TNsSIvj+fbncqll4YceSRcd13UhUmS6iOZy4K7AQcHQVAFPAbsEwTBI8u/KAzDgWEYloZhWNq2bdskliNlgLo5VsRifBZux/HTb6M0+JiHfv8Yed7bK0kZISVzroIg2Au4JAzDg1b3OudcKeeVlEAsxrdsRHc+Io9aPuC3bFzc3DlWkpRmVjXnyrMFpXRSXc1C8jmWx5jJurzLrmzM/6A6iLoySVI9pSRchWH4JvBmKr5LymhFRVwZO52R7MlgerM9oxZflyRlBndxSGnkhSMf5AauoB/30pu68wKdYyVJGcVwJaWJqio4YdBedCv+gduL/uEcK0nKUO65ktLA/Plw9NFQUwNPvb4eBZuNi7okSVID2bmSorDULCtKSrjkD1/x0UfwwAOw2WZRFydJ+jXsXEmptmiWVTwOwJOx7twZ24oLe43l8MO3jrg4SdKvZedKSrXy8sXBajxbcAr3szPvccOYgyMuTJLUGOxcSalWXQ3AHAo4iidpxnye4GiaTZ4acWGSpMZg50pKtbqZVZdzA6PYnkfoTQemOMtKkrKE4UpKtf79eb/5ntzJuZzDnfTiFWdZSVIWMVxJKbbg6DJOa/scm+b/j+spd5aVJGUZ91xJKXbTTfDllDYMHdqG1gf/FHU5kqRGZudKSqHx4+Haa+HII+Fgbw6UpKxkuJJSJAzh9NOhoADuuCPqaiRJyeKyoJQigwbBm28mtldtvHHU1UiSksXOlZQsSx1x812HUi45bx49esApp0RdmCQpmQxXUjIsOuImFoMw5PwplxCPw70H/Zs8/69OkrKa/29eSoaljrh5kQN4nGP5M39lq7vPjbgwSVKyuedKSoa6I25+phVncg9d+ZI/8neoXhhxYZKkZDNcSclQVASxGFdzNVNozzvsRjMWQFFx1JVJkpLMZUEpGfr355uCrbmTc+nLIHbhfY+4kaQcYbiSkqGsjPIdhtEkqOFarvKIG0nKIS4LSknw8cfw6HsllJfDJn+dGnU5kqQUsnMlNbIwhMsugw02SDxKknKLnSupkb3yCrzxBtx+O6yzTtTVSJJSzc6V1IhqahLdqk6d4Iwzoq5GkhQFO1dSI3rkEfjiC3jsMWjWLOpqJElRsHMlNZI5c+DPf4bu3eGoo6KuRpIUFTtXUiO5806YMgUGD8bzAyUph/lPgPRrVFRASQkzgg24/vKfOLDbVPbaK+qiJElRMlxJDVVRAf36QUtW7qgAACAASURBVCzG9VzBz2FLbvjq0MR1SVLOMlxJDVVeDvE4VRRzF+dwEg+yzdzKxHVJUs4yXEkNVV0NwJVcRx61XMNVy1yXJOUmw5XUUEVFjKYLFZRxHnfQnqmLr0uScpd3C0oN1b8/V51YSKua2VzGjYlrhYXQv3+0dUmSImXnSmqgT7uU8XTNYVz4mwdYP5gJxcUwcCCUlUVdmiQpQnaupAb6y1+gTRu48Jvzoc35UZcjSUoTdq6kBvjgA3jhBbj00kTAkiRpEcOV1ABXXgkbbADnnRd1JZKkdOOyoLSWRo6EV1+Fm2+GVq2irkaSlG7sXElrIQwTXauNNoIzz4y6GklSOrJzJa2F119PdK7uvDMxdUGSpOXZuZLqaVHXqkMHOO20qKuRJKUrO1dSPQ0bBu+/nxhl1bx51NVIktKVnSupHhZ1rTp1gpNOiroaSVI6M1xJa1JRwbMbns6nn8JVsy6i6RMVUVckSUpjLgtKq1NRQe1pp3PVnPfozFeUzbgd+hUknvOYG0nSSti5klanvJyn5hzAl2zLVVxDPrUQj0N5edSVSZLSlJ0raTVqY5O5hhfZmjEczRNLnqiujq4oSVJaM1xJq/HkBmcy5vuuPMYxia7VIkVF0RUlSUprLgtKq1BTA9c2/ytdgjEcyVNLnigshP79oytMkpTWDFfSKjz5JIyZ2oarzp5BfnEHCAIoLk4MunIzuyRpFYIwDKOuYbHS0tKwsrIy6jIkampg220hLw9GjUo8SpK0tCAIPg7DsHT56+65klbiiSdg7NjEo8FKkrQ2/GdDWk5NDVx7LWyzDRxxRNTVSJIyjZ0raTmPPw5ffZXYc2XXSpK0tvynQ1rK0l2rww+PuhpJUiaycyUt5bHHYNw4u1aSpIbznw8JoKKCmuJOXNt7HNs2HcvhczycWZLUMHaupIoK6NePR+OHMZ7OPLXgCPLOeDnxPz2cZyVJWkvOuZJKSqiJTaYLYyhgLp+yA3mEiYGhVVVRVydJSlPOuZJWpbqa50h0rZ7gqESwqrsuSdLacs+VVFTEP7iITnzN4TyzzHVJktaW4Uo57/2TB/Auu3EBt5FPbeKihzNLkhrIcKWcd8uXvWhTOI+TO7zu4cySpF/NPVfKad98A888A5de2pxWN4yJuhxJUhawc6WcdtttiWGh554bdSWSpGxhuFLOmjkT7r8fjjsONt006mokSdnCcKWcdd998MsvcNFFUVciScomhivlpPnz4Y47YJ99oFu3qKuRJGUTw5VyR0UFlJRAXh5PbHIBU6fCxRdHXZQkKdsYrpQb6s4PJBYjDENumXEiWwdj6TXDA5olSY3LcKXcUF4O8TgAI9ibz9iBi8JbyLuyPOLCJEnZxjlXyg1LnRP4Dy6iHd/Rm0egen6ERUmSspGdK+WGunMCx7IVL3IQZ3M3Bczz/EBJUqMzXCk39O8PhYXcyoUUMIczucfzAyVJSeGyoHJDWRnTf2rOw2f9gRN5iLbFLaH/bZ4fKElqdIYr5YwHZx/JPOD80f2gS7+oy5EkZSmXBZUTwhAGDoQ99oAuXaKuRpKUzQxXyglvvgkTJyZGXUmSlEyGK+WEgQNh3XXhiCOirkSSlO0MV8p606fD00/DCSdAixZRVyNJynaGK2W9hx6CBQvgtNOirkSSlAsMV8pqizay77YbdO0adTWSpFxguFJWe+stmDDBjeySpNQxXCmrDRwIbdrAUUdFXYkkKVcYrpS1vv8+sZG9Tx83skuSUsdwpaz18MMwf74b2SVJqZW0cBUEQUEQBB8GQfB5EASjgyC4JlnfJS1v0Ub2XXaBbbeNuhpJUi5JZudqHrBPGIbbA92AXkEQ7JzE71Ouq6iAkhLIy+PtjY9m3Dg3skuSUi9p4SpMmF33Y9O6X2Gyvk85rqIikaRiMQhDBn53ML/hR46ufSzqyiRJOSape66CIMgPguAzYBrwahiGHyTz+5TDysshHgdgBuvxFEfSm0covPbyiAuTJOWapIarMAxrwjDsBrQHdgqCYJvlXxMEQb8gCCqDIKicPn16MstRNquuXvzbwfRhHgWcxn3LXJckKRVScrdgGIY/AiOAXit5bmAYhqVhGJa2bds2FeUoGxUVAYl154H047e8z/aMWnxdkqRUSebdgm2DIGhT9/sWwO+Ar5L1fcpx/ftDYSHvsBtj6UI/BkJhYeK6JEkp1GRt3xAEQR7QKgzDn9bw0o2Bh4IgyCcR4p4Iw/CFBtQorVlZGQD39GvJb+I/ckyH9+BvAxdflyQpVeoVroIgGAKcAdQAHwHrBEFwexiGN63qPWEYjgJ2aJQqpXr4br8ynlwAZ50PLW8bG3U5kqQcVd9lwS51napDgZeAjkCfpFUlNcD998OCBXDmmVFXIknKZfUNV02DIGhKIlw9H4bhApxZpTRSUwMDBsC++0LnzlFXI0nKZfUNV/cCVUBLYGQQBMXAmvZcSSnzwgsweTKcfXbUlUiScl0Qhg1rQAVB0CQMw4WNWUxpaWlYWVnZmB+pHLH//jB6NFRVQZO1vk1DkqS1FwTBx2EYli5/vV6dqyAINgyC4P4gCF6q+7kLcGIj1yg1yIQJMHw4nH66wUqSFL36Lgs+CLwCbFL383jggmQUJK2te+5JhKrTTou6EkmS6h+uNgjD8AmgFqBuObAmaVVJ9RSPwwMPwBFHwEYbRV2NJEn1D1e/BEGwPnV3CAZBsDMwK2lVSfX02GPw449w1llRVyJJUkJ9d6hcBDwPbBYEwTtAW+DIpFUl1UMYwt13Q9eusMceUVcjSVJCvcJVGIafBEGwJ9AZCIBxdbOupMh8+CF88gn8858QBFFXI0lSQn3vFjwKaBGG4WgSg0QfD4Jgx6RWJq3BP/8JrVpB795RVyJJ0hL13XN1ZRiGPwdBsDuwL3A/cE/yypJW7/vv4fHH4YQToHXrqKuRJGmJ+oarRXcGHgjcF4bhi0Cz5JQkrdmgQTBvnhvZJUnpp77hamoQBPcCxwDDgiBovhbvlRrVonME99wzsZldkqR0Ut+AdDSJIaL7h2H4I7AecGnSqpJW4+WX4Ztv7FpJktJTvcJVGIbxMAyfAWYFQVAENAW+Smpl0ircdBNssgkcdljUlUiStKL63i14cBAEE4BvgLfqHl9KZmHSyvznP/DWW3DZZdC0adTVSJK0ovouC14H7AyMD8OwI7Af8H7SqpJWoX9/aNvWcwQlSemrvuFqQRiGM4C8IAjywjAcAZQmsS5pBZWVif1WF18MhYVRVyNJ0srVN1z9GARBK2AkUBEEwe3AL8krS1pR//6wbst5nHn3NpCXByUlUFERdVmSJC1jteEqCILNgyDYDTgEiAMXAi8DM4Bzk1+elPDFF/Dcc3D+/JtYZ/LoxMGCsRj062fAkiSllTV1rm4DfgrD8JcwDGvDMFwYhuFDwLPA1UmvTqpz/fXQKpjNuQv+sewT8TiUl0dTlCRJK7GmcLVhGIZfLH+x7lpJUiqSljN+fOKom7PDu1mPmSu+oLo69UVJkrQKawpXbVbzXIvGLERalRtugIICuKj9Eyt/QVFRaguSJGk11hSuKoMgWOGm9yAITgU+Tk5J0hJVVTB4cGJrVbsbLlrxNsHCwsROd0mS0kSTNTx/AfBsEARlLAlTpSQObXY+tpLuxhsTNwZecgnQvixxsbw8sRRYVJQIVmVlkdYoSdLSgjAM1/yiINgb2Kbux9FhGL6RjGJKS0vDysrKZHy0MtB//wsdO8LJJycOapYkKZ0EQfBxGIYrzP1cU+cKgLqhoSMavSppNW6+GWpq4I9/jLoSSZLqr75DRKWUmj490a0qK0t0ryRJyhSGK6WlW26BuXPhiiuirkSSpLVjuFLamTgRbr0VeveGrbaKuhpJktaO4Upp58ILoVkz+Pvfo65EkqS1Z7hSWnnhhcSvq5v+lY039XBmSVLmqdfdglIqzJ0LF5zyM1sHUzhv5jXAUoczg/OsJEkZwc6VolFRkehK5S3pTt1yC3w9rTV3hOfSlIVLXuvhzJKkDGLnSqlXUZHoRsXjiZ9jMapPvZb+tcdwBM+xH6+v+B4PZ5YkZQg7V0q98vIlwarOxXP/CgsWcMumt678PR7OLEnKEIYrpd5yXajX2JenOIo/hddT/PezPJxZkpTRDFdKvaW6UPNpyrncSSe+5pKiJxKb1gcOhOJiCILE48CBbmaXJGUMw5VSr3//xd2pOzmXr9ia25tfRsH1f0k8X1YGVVVQW5t4NFhJkjKIG9qVenVh6ds/3sbVU6/mgBZvcNB9hxuiJElZwXClaJSVccmwMuY/Bbd9vg9sEXVBkiQ1DpcFFYmnn4YhQ+Dyy2ELg5UkKYsYrpRy334Lp58O//d/8Oc/R12NJEmNy3CllApDOPVU+OUXGDwYmjaNuiJJkhqXe66UUvfdB8OGwe23w9ZbR12NJEmNz86VUmbiRLjwQth3XzjnnKirkSQpOQxXSomFC+GEE6BZM3jwwcR5zZIkZSOXBZUSN94I772XOLO5ffuoq5EkKXnsHyjpPv0UrroKjj4ajjsu6mokSUouw5WSau5c6N0b2raFe+5JHBcoSVI2c1lQSfWnP8GYMfDyy7DeelFXI0lS8tm5UtK8d/Ur3HZrLWdyD/ufXpLYcCVJUpazc6WkmP/Qo/S7djvaM4W/cxnEZkO/foknPaBZkpTF7FwpKW66YApfhl25m7NpzezExXgcysujLUySpCQzXKnRjR8P1/14LkfxBH/ghWWfrK6OpihJklLEcKVGFYaJ1b+CYD53cN6KLygqSn1RkiSlkOFKjWrQIHjrLbip7xg2Kvx52ScLC6F//2gKkyQpRQxXajTffQeXXAI9esApA3eGgQOhuDgx3Kq4OPGzm9klSVnOuwXVaM4/P7Fn/d57684OLCszTEmSco6dK/06FRVQUsKLwUE8/jj8+Q+fs9VWURclSVJ0DFdquIoK6NeP2bHvOZN/0oXR/HHYng4LlSTlNMOVGq68HOJx/sxfmUJ77uM0ms2Z5SwrSVJOM1yp4aqr+YztuZNzOYMB7Mp7i69LkpSrDFdqsLBDEedzO+vxA/1ZqlvlLCtJUg4zXKnBnj70YUayJ9dxJevyY+Kis6wkSTnOcKUGmTMHLhnag+2KZnJa0XBnWUmSVMc5V2qQW26BWAzeeGNd8veeFHU5kiSlDTtXWmtTp8Lf/gaHHw577x11NZIkpRfDldba5ZdDTQ3cdFPUlUiSlH4MV1or778PjzwCF18MnTpFXY0kSenHcKU1qzvipjbI5/w9P2PjNnGuuCLqoiRJSk+GK61e3RE3xGI8Qhkfzu/GDfHzaTXUI24kSVqZIAzDqGtYrLS0NKysrIy6DC2tpARiMWbTki0ZTwcm8x67kFdcBFVVUVcnSVJkgiD4OAzD0uWvO4pBq1d3lM3fuIJv2YRnOJw8Qo+4kSRpFVwW1OoVFRGjiFu4mN4MZmc+WHxdkiStyM6VVq9/f/520hzChQHX86fENY+4kSRplQxXWq0pe5bxADX0bfUoHX6ZCkXFiWDlETeSJK2U4UqrdeONUEs+l3/ZG4p7R12OJElpzz1XWqVvv4X77oMTTkicySxJktbMcKVVuvlmmD8fB4ZKkrQWDFdaqenTYcCAxNaqzTePuhpJkjKH4Uor9Y9/wJw58Kc/RV2JJEmZxXClxWcHkpcHJSX8cO+T3HUXHH00bLVV1MVJkpRZvFsw1y06OzAeT/wci3H7OROYvRDKy6MtTZKkTGTnKteVly8JVsAs1uH2hWdxWIuX2XbbCOuSJClDGa5y3XJnBN7JucyiDVfOcbOVJEkNkbRwFQRBhyAIRgRBMCYIgtFBEJyfrO/Sr7DUGYE/04pbuZCD+Dc7FP8QYVGSJGWuZHauFgIXh2HYBdgZODsIgi5J/D41RP/+ibMCgXs4kx9Ynyub3+TZgZIkNVDSwlUYht+GYfhJ3e9/BsYCmybr+9RAZWUwcCDxDp25mUvoWTCSne4/3bMDJUlqoJTcLRgEQQmwA/BBKr5Pa6msjEEzy5h+Llz5ajvYPeqCJEnKXEnf0B4EQSvgaeCCMAx/Wsnz/YIgqAyCoHL69OnJLkcrUVsLd94Jv/0t7G6wkiTpV0lquAqCoCmJYFURhuEzK3tNGIYDwzAsDcOwtG3btsksR6vw6qswfjyce27UlUiSlPmSebdgANwPjA3D8B/J+h79enfcARttBEcdFXUlkiRlvmR2rnYD+gD7BEHwWd2vA5L4fWqACRNg2DA4/XRo1izqaiRJynxJ29AehuF/gCBZn6/Gcffd0LRpIlxJkqRfzwntOeznn+GBBxLLgRtvHHU1kiRlB8NVDnv4YfjpJzjvvKgrkSQpexiuclRtLdx1F3TvnhjBIEmSGkdKhogq/bz2Gnz1FQweHHUlkiRlFztXOerOO6FdO8cvSJLU2AxXOWjiRHjxRTjjDGjePOpqJEnKLoarHHT33ZCfnwhXkiSpcRmucszs2TBokOMXJElKFsNVjnH8giRJyWW4yiFhmNjIXlrq+AVJkpLFcJUrKip4baPefPUVnPfNhQRDKqKuSJKkrOScq1xQUQH9+nFv/CE2YDpHz/gn9Kv7j76sLNraJEnKMnauckF5OdPjhTzPwfRhMM2ZD/E4lJdHXZkkSVnHcJULqqupoIwFNKMvg5a5LkmSGpfhKgeEHYoYRF+68yHbMHrJE0VF0RUlSVKWMlzlgE9Ou4cv2G7ZrlVhIfTvH11RkiRlKcNVDhj07e8paLqQYzu8C0EAxcUwcKCb2SVJSgLvFsxyc+bAkCFwxNFNaPPIqKjLkSQp69m5ynLPPQc//gh9+0ZdiSRJucFwleUGDYKSEthrr6grkSQpNxiuslhVFbz+Opx8MuT5n7QkSSnhP7lZ7KGHEo8nnhhtHZIk5RLDVZaqrYUHHoD99kvcHChJklLDcJWlRoyAWMyN7JIkpZrhKksNGgRt2sChh0ZdiSRJucVwlYVmzoSnn07MCC0oiLoaSZJyi+EqCz32GMyb55KgJElRMFxlk4oKKClh0FkfsX3TMewwpiLqiiRJyjmGq2xRUQH9+jEqtg6VdKfvggEEp/dLXJckSSljuMoW5eUQj/MAJ9OMeZRRAfF44rokSUoZw1W2qK5mIfkM4XgO4gXW54fF1yVJUuoYrrJFURGv8jumsSF9GLzMdUmSlDqGq2zRvz+D809mPWZwAMMS1woLoX//aOuSJCnHNIm6ADWOnw8u47n8hZzY4jGa/bIQiooTwaqsLOrSJEnKKYarLPHMMzBnfhP6jOgNu/aOuhxJknKWy4JZYvBg6NQJdtkl6kokScpthqssMHUqvPEG9O4NQRB1NZIk5TbDVRYYMgTCMBGuJElStAxXWWDwYPjtb2GLLaKuRJIkGa4y3KhR8MUX0KdP1JVIkiQwXGW8wYOhSRM45pioK5EkSWC4ymg1NYn9Vr//PWywQdTVSJIkMFxltBEj4L//dUlQkqR0YrjKNBUVUFICeXkMPvRp1mkxn4MOirooSZK0iOEqk1RUQL9+EIvxS9iCZ37pyVHzh9DimYqoK5MkSXUMV5mkvBzicQCGcgizaU3vmgcT1yVJUlrwbMFMUl29+LeD6UMRMXowEqpX8x5JkpRSdq4ySVERAN/RjuH0pIwK8ggXX5ckSdEzXGWS/v2hsJBHOY5a8unNI1BYmLguSZLSgsuCmaSsDIAhfbuyw/xP6FIch/4DF1+XJEnRM1xlmCl7lvHRfLj+euCKqqjLkSRJy3FZMMM8/3zi8ZBDoq1DkiStnOEqwwwdCptvDltvHXUlkiRpZQxXGWTWrMSRN4ceCkEQdTWSJGllDFcZ5OWXYcEClwQlSUpnhqsMMnQotG0Lu+wSdSWSJGlVDFcZYv58GDYMDjoI8vOjrkaSJK2K4SpDvPVWYs/VoYdGXYkkSVodw1WGGDoUWrSA/faLuhJJkrQ6hqsMEIaJ+VY9eyZOu5EkSenLcJUBPv0UJk/2LkFJkjKB4SoDDB0KeXmJzeySJCm9Ga4ywNChsNtuiTEMkiQpvRmu0lxVFXz+uUuCkiRlCsNVmhs6NPFouJIkKTMYrtLc0KHQpUvisGZJkpT+DFdp7IcfYORIB4dKkpRJDFdpbNgwqKlxSVCSpExiuEpHFRVQUsLQPk+ycf53lI6riLoiSZJUT02iLkDLqaiAfv2YG6/hZXpRVlNB3hkXJ2JwWVnU1UmSpDWwc5VuysshHucN9mE2rTmEoRCPJ65LkqS0Z7hKN9XVAAzlEFrxM/vwxjLXJUlSejNcpZuiIkLg3/yB3/MSzZm/+LokSUp/hqt0078/XxXswLdswv68krhWWAj9+0dblyRJqhfDVbopK2PEMQMA2Js3obgYBg50M7skSRnCuwXT0IhfdqKoCDpWfQ1B1NVIkqS1YecqzdTWwptvwt57Q2CwkiQp4xiu0szo0fD994lwJUmSMo/hKs2MGJF43GuvSMuQJEkNZLhKMyNGQMeOiX3skiQp8xiu0khtLbz1lkuCkiRlMsNVGhk1CmbONFxJkpTJDFdpZNF+K8OVJEmZy3CVRkaMgC22gE03jboSSZLUUIarNFFTAyNH2rWSJCnTGa7SxKefwqxZhitJkjKd4SpNON9KkqTskLRwFQTBoCAIpgVB8GWyviObjBgBW20FG20UdSWSJOnXSGbn6kGgVxI/P7NVVEBJCeTlsaB4c94escAlQUmSskDSwlUYhiOBH5L1+RmtogL69YNYDMKQj6s3YPbcpuzd5O2oK5MkSb+Se66iUF4O8fjiH0eQaFnt9ez5UVUkSZIaSeThKgiCfkEQVAZBUDl9+vSoy0mN6uplfnyTvdiGL2g79bOICpIkSY0l8nAVhuHAMAxLwzAsbdu2bdTlpEZR0eLfzqcp/2F39mbEMtclSVJmijxc5aT+/aGwEICP6E6cluzd7N3EdUmSlNGSOYrhUeA9oHMQBFOCIDglWd+VccrKYOBAKC5mBPsQUMuedxyRuC5JkjJaEIZh1DUsVlpaGlZWVkZdRkrtuy/88ENiQrskScocQRB8HIZh6fLXXRaM0Lx58O67TmWXJCmbGK4i9P77MHeu5wlKkpRNDFcRGjEC8vKgR4+oK5EkSY3FcBWhESNghx2gTZuoK5EkSY3FcBWROXMSy4IuCUqSlF0MVxF5+22YPx/22SfqSiRJUmMyXEXk1VehWTPYc8+oK5EkSY3JcBWR4cNh990XD2qXJElZwnAVgW+/hVGjoGfPqCuRJEmNzXAVgddeSzwariRJyj6Gqwi8+iq0bQvbbx91JZIkqbEZrlIsDBP7rfbbLzFAVJIkZRf/eU+xL76A775zSVCSpGxluEqxV19NPP7ud9HWIUmSksNwlWLDh0OXLrDpplFXIkmSksFwlUJz58LIkS4JSpKUzQxXKfSf/yQClkuCkiRlL8NVCg0fDk2beuSNJEnZzHCVQouOvGnZMupKJElSshiuUuS77+Dzz10SlCQp2xmuUsQjbyRJyg2GqxQZPhzWXx922CHqSiRJUjIZrlIgDBPDQz3yRpKk7Oc/9SkwejR8+61LgpIk5QLDVQoMH554dDO7JEnZz3CVAsOHw1ZbQYcOUVciSZKSzXCVZHPnwltvuSQoSVKuMFz9f3t3H2NHdd5x/Pv4JYDjggulCGF2bRKyCa2CAysUuxE1pEUGIhspJAoylFZVnCpECqgVIrXUqlVchX+SvtDQWAkNrBdIDHFIUpKQFytFKTXYjltiHBNjeR1SsIuoA2axwebpHzOL1xvv2pi5d+7e+X6k1b1z5t47Zx/tWD/POXdOi/34xy55I0lSkxiuWmxkyZuFC+vuiSRJagfDVYs99BAsWAAzZ9bdE0mS1A6GqxbavRs2bXJIUJKkJjFctdCaNcXjFVfU2w9JktQ+hqsWGhiAd70L5s2ruyeSJKldDFctsn178U3B666DiLp7I0mS2sVw1SKrVhWPS5fW2w9JktRehqsWyCyGBBcuhJ6eunsjSZLayXDVAuvWwbZtxZCgJElqFsNVCwwMwIknwtVX190TSZLUboarir3yCtx7LyxZAiefXHdvJElSuxmuKvbtb8PzzzskKElSUxmuKrZqFZx+Olx2Wd09kSRJdTBcVWjPHvjmN+Gaa4rFmiVJUvMYriq0ejXs3w/XXls2DA7CnDkwZUrxODhYY+8kSVI7TKu7A91kYAD6+qC/nyJILVsGw8PFzqGhYhu8s6gkSV3MK1cV2bEDHn541HI3y5cfClYjhoeLdkmS1LUMVxX5teVudu488gvHa5ckSV3BcFWBkeVuLr64mFoFjL/ujevhSJLU1QxXFXjsMXjyyTH3tlqxAmbMOPyFM2YU7ZIkqWsZriowMAAnnDBmuZulS2HlSujtLSZh9fYW205mlySpq/ltwTfp1VeL5W4WL4ZZs8bsXLrUMCVJUsN45epNWr0annvO5W4kSVLBcPUmbN8OH/84XHghLFpUd28kSVInMFwdp3374EMfKqZTrV7tcjeSJKngnKvjdOONsHEjPPAAzJ1bd28kSVKn8MrVcVi1Cr7wBbj55mIiuyRJ0gjD1Ru0eTN87GPFDUO9ZZUkSRrLcPUG7N1b3Mtq5szi9gvTHFSVJEljGA+OUSZ89KPFndi//30488y6eyRJkjqR4eoY3X57cbXq05+GSy6puzeSJKlTNWdYcHCwWFV5ypTicXDwqPsOHoTHP/Nv3HbqX3HTDfu5/MS1fKrn6O+TJEnN1YwrV4ODsGwZDA8X20NDxfaIct8eTmHdUB+P/PEO/uMzz7DuqdN44eUrgSs5j80M7LuaKX+271AkHe8zXfJGkqTGisysuw+v6+/vz/Xr11f/wXPmFOEHSGAXZ7CVPraeuoCfvfo2tr54JlvpYzvnkExhCgf53elPsuCEDczf+xDzeYS3s40Y+bze3uKx/MzD9PbCjh3V/w6SJKmjRMSGzOwf296MUwM1FgAAB9VJREFUK1c7dwJwFWtYyyW8wClF+/NwEsO8gye5kA1cz53M5xEu4lFOPrAXDkARx478eRMdS5IkNVMzwlVPDwwN0cdWZvM0fcV1K/rOeomzp/4PU3buOMJ7Jrg61dNz9H2SJKmRmhGuVqyAZcu4dfiWQ20zZsCtK4vno+dOjewbuUPo8e6TJEmN1IxwNTLBfPnyYtiup6cIQaMnnrdinyRJapxmTGiXJEmq2HgT2ptznytJkqQ2MFxJkiRVyHAlSZJUIcOVJElShQxXkiRJFTJcSZIkVchwJUmSVCHDlSRJUoUMV5IkSRUyXEmSJFXIcCVJklQhw5UkSVKFDFeSJEkVMlxJkiRVyHAlSZJUIcOVJElShQxXkiRJFTJcSZIkVchwJUmSVCHDlSRJUoVaGq4iYlFEbI2IbRFxSyuPJUmS1AlaFq4iYirwz8DlwHnANRFxXquOJ0mS1AlaeeXqImBbZm7PzFeAe4ElLTyeJElS7VoZrs4CfjFq++myTZIkqWtNq7sDEbEMWFZu7o2IrS0+5G8Bz7X4GJOVtZmY9RmftZmY9RmftZmY9RlfJ9Sm90iNrQxXvwTOHrU9u2w7TGauBFa2sB+HiYj1mdnfruNNJtZmYtZnfNZmYtZnfNZmYtZnfJ1cm1YOCz4GnBsRcyPiLcBHgG+08HiSJEm1a9mVq8w8EBGfAL4LTAXuyMzNrTqeJElSJ2jpnKvMfBB4sJXHOA5tG4KchKzNxKzP+KzNxKzP+KzNxKzP+Dq2NpGZdfdBkiSpa7j8jSRJUoUaE65ciudwEXFHROyOiJ+Oajs1Ir4XET8vH3+zzj7WJSLOjoi1EfFERGyOiE+W7dYHiIgTI+LRiPivsj5/U7bPjYh15Tn2lfKLLI0UEVMj4icR8a1y29qUImJHRDweEZsiYn3Z5rkFRMSsiLgvIn4WEVsiYr61KUREX/k3M/LzQkTc2Kn1aUS4cimeI/oysGhM2y3ADzLzXOAH5XYTHQD+PDPPA94L3FD+vVifwn7g0sw8H5gHLIqI9wK3Ap/LzLcD/wf8aY19rNsngS2jtq3N4S7JzHmjvkbvuVX4B+A7mflO4HyKvyFrA2Tm1vJvZh5wITAMrKFD69OIcIVL8fyazPx34PkxzUuAO8vndwJXtbVTHSIzn8nMjeXzFyn+gTsL6wNAFvaWm9PLnwQuBe4r2xtbn4iYDVwJfLHcDqzN0TT+3IqIU4CLgS8BZOYrmbkHa3Mk7weeyswhOrQ+TQlXLsVzbM7IzGfK588CZ9TZmU4QEXOA9wDrsD6vK4e9NgG7ge8BTwF7MvNA+ZImn2N/D9wMvFZun4a1GS2BhyJiQ7lCB3huAcwF/hf413JI+YsR8VaszZF8BLinfN6R9WlKuNIblMXXSBv9VdKImAncD9yYmS+M3tf0+mTmwfLy/GyKK8PvrLlLHSEiPgDszswNdfelg70vMy+gmKZxQ0RcPHpng8+tacAFwO2Z+R7gJcYMcTW4Nq8r5ysuBlaP3ddJ9WlKuDqmpXjErog4E6B83F1zf2oTEdMpgtVgZn6tbLY+Y5TDFmuB+cCsiBi5d15Tz7HfAxZHxA6K6QeXUsyjsTalzPxl+bibYs7MRXhuQXFF8+nMXFdu30cRtqzN4S4HNmbmrnK7I+vTlHDlUjzH5hvA9eXz64EHauxLbco5Ml8CtmTmZ0ftsj5ARJweEbPK5ycBf0gxL20tcHX5skbWJzM/lZmzM3MOxb8zP8zMpVgbACLirRHxGyPPgcuAn+K5RWY+C/wiIvrKpvcDT2BtxrqGQ0OC0KH1acxNRCPiCoq5ECNL8ayouUu1ioh7gIUUq4rvAv4a+DrwVaAHGAI+nJljJ713vYh4H/Aw8DiH5s38JcW8K+sT8W6KiaNTKf6D9tXM/NuIOIfias2pwE+AazNzf309rVdELAT+IjM/YG0KZR3WlJvTgLszc0VEnIbnFhExj+KLEG8BtgN/QnmO0fDawOuBfCdwTmb+qmzryL+dxoQrSZKkdmjKsKAkSVJbGK4kSZIqZLiSJEmqkOFKkiSpQoYrSZKkCk07+kskqbNExEGKW2VMp1ho+y6KhZFfm/CNktQGhitJk9HL5fI7RMRvA3cDJ1Pcr02SauWwoKRJrVxGZRnwiSjMiYiHI2Jj+bMAICLuioirRt4XEYMRsSQificiHo2ITRHx3xFxbl2/i6Tu4E1EJU06EbE3M2eOadsD9AEvAq9l5r4yKN2Tmf0R8fvATZl5VUScAmwCzgU+B/xnZg6Wy2NNzcyX2/sbSeomDgtK6jbTgdvKpUQOAu8AyMwfRcTnI+J04IPA/Zl5ICIeAZZHxGzga5n589p6LqkrOCwoadIr16w7COwGbqJYL/N8oJ9inbYRdwHXUqzZdgdAZt4NLAZeBh6MiEvb13NJ3cgrV5ImtfJK1L8At2VmlkN+T2fmaxFxPcUC0yO+DDwKPJuZT5TvPwfYnpn/GBE9wLuBH7b1l5DUVQxXkiajkyJiE4duxTAAfLbc93ng/oj4I+A7wEsjb8rMXRGxBfj6qM/6MHBdRLwKPAv8XRv6L6mLOaFdUmNExAyK+2NdkJm/qrs/krqTc64kNUJE/AGwBfgng5WkVvLKlSRJUoW8ciVJklQhw5UkSVKFDFeSJEkVMlxJkiRVyHAlSZJUIcOVJElShf4fObRX8895mWQAAAAASUVORK5CYII=\n",
        "metadata": {
         "needs_background": "light",
         "tags": []
        },
        "output_type": "display_data",
        "text/plain": "<Figure size 720x720 with 1 Axes>"
       }
      ]
     }
    },
    "d47c878d1d3a4389ab527d6ef719efd7": {
     "model_module": "@jupyter-widgets/base",
     "model_name": "LayoutModel",
     "state": {
      "_model_module": "@jupyter-widgets/base",
      "_model_module_version": "1.2.0",
      "_model_name": "LayoutModel",
      "_view_count": null,
      "_view_module": "@jupyter-widgets/base",
      "_view_module_version": "1.2.0",
      "_view_name": "LayoutView",
      "align_content": null,
      "align_items": null,
      "align_self": null,
      "border": null,
      "bottom": null,
      "display": null,
      "flex": null,
      "flex_flow": null,
      "grid_area": null,
      "grid_auto_columns": null,
      "grid_auto_flow": null,
      "grid_auto_rows": null,
      "grid_column": null,
      "grid_gap": null,
      "grid_row": null,
      "grid_template_areas": null,
      "grid_template_columns": null,
      "grid_template_rows": null,
      "height": null,
      "justify_content": null,
      "justify_items": null,
      "left": null,
      "margin": null,
      "max_height": null,
      "max_width": null,
      "min_height": null,
      "min_width": null,
      "object_fit": null,
      "object_position": null,
      "order": null,
      "overflow": null,
      "overflow_x": null,
      "overflow_y": null,
      "padding": null,
      "right": null,
      "top": null,
      "visibility": null,
      "width": null
     }
    },
    "e0489801265a48b3a425331dfbfab0ea": {
     "model_module": "@jupyter-widgets/controls",
     "model_name": "DropdownModel",
     "state": {
      "_dom_classes": [],
      "_model_module": "@jupyter-widgets/controls",
      "_model_module_version": "1.5.0",
      "_model_name": "DropdownModel",
      "_options_labels": [
       "Cases",
       "Hospitalized",
       "ICU",
       "Dead",
       "Recovered"
      ],
      "_view_count": null,
      "_view_module": "@jupyter-widgets/controls",
      "_view_module_version": "1.5.0",
      "_view_name": "DropdownView",
      "description": "column",
      "description_tooltip": null,
      "disabled": false,
      "index": 0,
      "layout": "IPY_MODEL_d0a59b357a48466c8c378175426ed39a",
      "style": "IPY_MODEL_2d729d3f27bd4d49a459772cfa014654"
     }
    },
    "e58d578d82524888a76d97a10137a946": {
     "model_module": "@jupyter-widgets/base",
     "model_name": "LayoutModel",
     "state": {
      "_model_module": "@jupyter-widgets/base",
      "_model_module_version": "1.2.0",
      "_model_name": "LayoutModel",
      "_view_count": null,
      "_view_module": "@jupyter-widgets/base",
      "_view_module_version": "1.2.0",
      "_view_name": "LayoutView",
      "align_content": null,
      "align_items": null,
      "align_self": null,
      "border": null,
      "bottom": null,
      "display": null,
      "flex": null,
      "flex_flow": null,
      "grid_area": null,
      "grid_auto_columns": null,
      "grid_auto_flow": null,
      "grid_auto_rows": null,
      "grid_column": null,
      "grid_gap": null,
      "grid_row": null,
      "grid_template_areas": null,
      "grid_template_columns": null,
      "grid_template_rows": null,
      "height": null,
      "justify_content": null,
      "justify_items": null,
      "left": null,
      "margin": null,
      "max_height": null,
      "max_width": null,
      "min_height": null,
      "min_width": null,
      "object_fit": null,
      "object_position": null,
      "order": null,
      "overflow": null,
      "overflow_x": null,
      "overflow_y": null,
      "padding": null,
      "right": null,
      "top": null,
      "visibility": null,
      "width": null
     }
    },
    "e7c81f21e908470f83fda38791fd5465": {
     "model_module": "@jupyter-widgets/controls",
     "model_name": "VBoxModel",
     "state": {
      "_dom_classes": [
       "widget-interact"
      ],
      "_model_module": "@jupyter-widgets/controls",
      "_model_module_version": "1.5.0",
      "_model_name": "VBoxModel",
      "_view_count": null,
      "_view_module": "@jupyter-widgets/controls",
      "_view_module_version": "1.5.0",
      "_view_name": "VBoxView",
      "box_style": "",
      "children": [
       "IPY_MODEL_883b0d5b99f54ad4825cd121c79ae4e9",
       "IPY_MODEL_b15104101dd6492c80605447da90311e"
      ],
      "layout": "IPY_MODEL_a6369d75a89a48f387b2339f9e227601"
     }
    },
    "f01b61b3a9a74d7fbd87bed268e5a773": {
     "model_module": "@jupyter-widgets/output",
     "model_name": "OutputModel",
     "state": {
      "_dom_classes": [],
      "_model_module": "@jupyter-widgets/output",
      "_model_module_version": "1.0.0",
      "_model_name": "OutputModel",
      "_view_count": null,
      "_view_module": "@jupyter-widgets/output",
      "_view_module_version": "1.0.0",
      "_view_name": "OutputView",
      "layout": "IPY_MODEL_487a4cffcc6844459e4ef1303ba81b67",
      "msg_id": "",
      "outputs": [
       {
        "metadata": {
         "tags": []
        },
        "output_type": "stream",
        "stream": "stdout",
        "text": "MSE: 567581585.3242973\nR^2: 0.7754045561490134\n"
       },
       {
        "image/png": "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\n",
        "metadata": {
         "needs_background": "light",
         "tags": []
        },
        "output_type": "display_data",
        "text/plain": "<Figure size 720x720 with 1 Axes>"
       }
      ]
     }
    },
    "f0d0a5aa079d4284a798206774bc2125": {
     "model_module": "@jupyter-widgets/controls",
     "model_name": "VBoxModel",
     "state": {
      "_dom_classes": [
       "widget-interact"
      ],
      "_model_module": "@jupyter-widgets/controls",
      "_model_module_version": "1.5.0",
      "_model_name": "VBoxModel",
      "_view_count": null,
      "_view_module": "@jupyter-widgets/controls",
      "_view_module_version": "1.5.0",
      "_view_name": "VBoxView",
      "box_style": "",
      "children": [
       "IPY_MODEL_642f763dce3d4340bd16472f6d1bc27c",
       "IPY_MODEL_d3abf82d7f944ea3862317863575a03f"
      ],
      "layout": "IPY_MODEL_8378a981ca414d37ad4ad84ea4787ec7"
     }
    },
    "f93b665cecec4d9fbe98398f51321a68": {
     "model_module": "@jupyter-widgets/controls",
     "model_name": "DescriptionStyleModel",
     "state": {
      "_model_module": "@jupyter-widgets/controls",
      "_model_module_version": "1.5.0",
      "_model_name": "DescriptionStyleModel",
      "_view_count": null,
      "_view_module": "@jupyter-widgets/base",
      "_view_module_version": "1.2.0",
      "_view_name": "StyleView",
      "description_width": ""
     }
    },
    "fa4f3c77fb7c475d874a3077d0f6cfac": {
     "model_module": "@jupyter-widgets/output",
     "model_name": "OutputModel",
     "state": {
      "_dom_classes": [],
      "_model_module": "@jupyter-widgets/output",
      "_model_module_version": "1.0.0",
      "_model_name": "OutputModel",
      "_view_count": null,
      "_view_module": "@jupyter-widgets/output",
      "_view_module_version": "1.0.0",
      "_view_name": "OutputView",
      "layout": "IPY_MODEL_5fc32e96c8554b57923b003a38ecda20",
      "msg_id": "",
      "outputs": [
       {
        "image/png": "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\n",
        "metadata": {
         "needs_background": "light",
         "tags": []
        },
        "output_type": "display_data",
        "text/plain": "<Figure size 720x720 with 1 Axes>"
       }
      ]
     }
    },
    "fcb6afb123b5487fa0f4240213aa0dd2": {
     "model_module": "@jupyter-widgets/base",
     "model_name": "LayoutModel",
     "state": {
      "_model_module": "@jupyter-widgets/base",
      "_model_module_version": "1.2.0",
      "_model_name": "LayoutModel",
      "_view_count": null,
      "_view_module": "@jupyter-widgets/base",
      "_view_module_version": "1.2.0",
      "_view_name": "LayoutView",
      "align_content": null,
      "align_items": null,
      "align_self": null,
      "border": null,
      "bottom": null,
      "display": null,
      "flex": null,
      "flex_flow": null,
      "grid_area": null,
      "grid_auto_columns": null,
      "grid_auto_flow": null,
      "grid_auto_rows": null,
      "grid_column": null,
      "grid_gap": null,
      "grid_row": null,
      "grid_template_areas": null,
      "grid_template_columns": null,
      "grid_template_rows": null,
      "height": null,
      "justify_content": null,
      "justify_items": null,
      "left": null,
      "margin": null,
      "max_height": null,
      "max_width": null,
      "min_height": null,
      "min_width": null,
      "object_fit": null,
      "object_position": null,
      "order": null,
      "overflow": null,
      "overflow_x": null,
      "overflow_y": null,
      "padding": null,
      "right": null,
      "top": null,
      "visibility": null,
      "width": null
     }
    },
    "fda5bf36fbf94cfd8bc065f64117801f": {
     "model_module": "@jupyter-widgets/controls",
     "model_name": "DescriptionStyleModel",
     "state": {
      "_model_module": "@jupyter-widgets/controls",
      "_model_module_version": "1.5.0",
      "_model_name": "DescriptionStyleModel",
      "_view_count": null,
      "_view_module": "@jupyter-widgets/base",
      "_view_module_version": "1.2.0",
      "_view_name": "StyleView",
      "description_width": ""
     }
    }
   }
  }
 },
 "nbformat": 4,
 "nbformat_minor": 1
}
